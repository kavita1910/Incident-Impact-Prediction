{
 "cells": [
  {
   "cell_type": "code",
   "execution_count": 1,
   "metadata": {},
   "outputs": [],
   "source": [
    "#Import the libraries\n",
    "import pandas as pd\n",
    "import numpy as np\n",
    "import matplotlib.pyplot as plt\n",
    "import seaborn as sns\n",
    "%matplotlib inline\n",
    "\n",
    "#To remove warning\n",
    "import warnings\n",
    "warnings.filterwarnings('ignore')"
   ]
  },
  {
   "cell_type": "code",
   "execution_count": 2,
   "metadata": {},
   "outputs": [],
   "source": [
    "#Load the dataset\n",
    "data=pd.read_excel(\"sample_service.xlsx\")"
   ]
  },
  {
   "cell_type": "code",
   "execution_count": 3,
   "metadata": {},
   "outputs": [],
   "source": [
    "#The method .copy() is used here so that any changes made in new DataFrame don't get reflected in the original one\n",
    "inc=data.copy()"
   ]
  },
  {
   "cell_type": "code",
   "execution_count": 4,
   "metadata": {},
   "outputs": [
    {
     "data": {
      "text/html": [
       "<div>\n",
       "<style scoped>\n",
       "    .dataframe tbody tr th:only-of-type {\n",
       "        vertical-align: middle;\n",
       "    }\n",
       "\n",
       "    .dataframe tbody tr th {\n",
       "        vertical-align: top;\n",
       "    }\n",
       "\n",
       "    .dataframe thead th {\n",
       "        text-align: right;\n",
       "    }\n",
       "</style>\n",
       "<table border=\"1\" class=\"dataframe\">\n",
       "  <thead>\n",
       "    <tr style=\"text-align: right;\">\n",
       "      <th></th>\n",
       "      <th>ID</th>\n",
       "      <th>ID_status</th>\n",
       "      <th>active</th>\n",
       "      <th>count_reassign</th>\n",
       "      <th>count_opening</th>\n",
       "      <th>count_updated</th>\n",
       "      <th>ID_caller</th>\n",
       "      <th>opened_by</th>\n",
       "      <th>opened_time</th>\n",
       "      <th>Created_by</th>\n",
       "      <th>...</th>\n",
       "      <th>Category Id</th>\n",
       "      <th>user_symptom</th>\n",
       "      <th>Support_group</th>\n",
       "      <th>support_incharge</th>\n",
       "      <th>Doc_knowledge</th>\n",
       "      <th>confirmation_check</th>\n",
       "      <th>impact</th>\n",
       "      <th>notify</th>\n",
       "      <th>problem_ID</th>\n",
       "      <th>change_request</th>\n",
       "    </tr>\n",
       "  </thead>\n",
       "  <tbody>\n",
       "    <tr>\n",
       "      <th>0</th>\n",
       "      <td>INC0000045</td>\n",
       "      <td>New</td>\n",
       "      <td>True</td>\n",
       "      <td>0</td>\n",
       "      <td>0</td>\n",
       "      <td>0</td>\n",
       "      <td>Caller 2403</td>\n",
       "      <td>Opened by  8</td>\n",
       "      <td>2016-02-29 01:16:00</td>\n",
       "      <td>Created by 6</td>\n",
       "      <td>...</td>\n",
       "      <td>Subcategory 170</td>\n",
       "      <td>Symptom 72</td>\n",
       "      <td>Group 56</td>\n",
       "      <td>?</td>\n",
       "      <td>True</td>\n",
       "      <td>False</td>\n",
       "      <td>2 - Medium</td>\n",
       "      <td>Do Not Notify</td>\n",
       "      <td>?</td>\n",
       "      <td>?</td>\n",
       "    </tr>\n",
       "    <tr>\n",
       "      <th>1</th>\n",
       "      <td>INC0000045</td>\n",
       "      <td>Resolved</td>\n",
       "      <td>True</td>\n",
       "      <td>0</td>\n",
       "      <td>0</td>\n",
       "      <td>2</td>\n",
       "      <td>Caller 2403</td>\n",
       "      <td>Opened by  8</td>\n",
       "      <td>2016-02-29 01:16:00</td>\n",
       "      <td>Created by 6</td>\n",
       "      <td>...</td>\n",
       "      <td>Subcategory 170</td>\n",
       "      <td>Symptom 72</td>\n",
       "      <td>Group 56</td>\n",
       "      <td>?</td>\n",
       "      <td>True</td>\n",
       "      <td>False</td>\n",
       "      <td>2 - Medium</td>\n",
       "      <td>Do Not Notify</td>\n",
       "      <td>?</td>\n",
       "      <td>?</td>\n",
       "    </tr>\n",
       "    <tr>\n",
       "      <th>2</th>\n",
       "      <td>INC0000045</td>\n",
       "      <td>Resolved</td>\n",
       "      <td>True</td>\n",
       "      <td>0</td>\n",
       "      <td>0</td>\n",
       "      <td>3</td>\n",
       "      <td>Caller 2403</td>\n",
       "      <td>Opened by  8</td>\n",
       "      <td>2016-02-29 01:16:00</td>\n",
       "      <td>Created by 6</td>\n",
       "      <td>...</td>\n",
       "      <td>Subcategory 170</td>\n",
       "      <td>Symptom 72</td>\n",
       "      <td>Group 56</td>\n",
       "      <td>?</td>\n",
       "      <td>True</td>\n",
       "      <td>False</td>\n",
       "      <td>2 - Medium</td>\n",
       "      <td>Do Not Notify</td>\n",
       "      <td>?</td>\n",
       "      <td>?</td>\n",
       "    </tr>\n",
       "    <tr>\n",
       "      <th>3</th>\n",
       "      <td>INC0000045</td>\n",
       "      <td>Closed</td>\n",
       "      <td>False</td>\n",
       "      <td>0</td>\n",
       "      <td>0</td>\n",
       "      <td>4</td>\n",
       "      <td>Caller 2403</td>\n",
       "      <td>Opened by  8</td>\n",
       "      <td>2016-02-29 01:16:00</td>\n",
       "      <td>Created by 6</td>\n",
       "      <td>...</td>\n",
       "      <td>Subcategory 170</td>\n",
       "      <td>Symptom 72</td>\n",
       "      <td>Group 56</td>\n",
       "      <td>?</td>\n",
       "      <td>True</td>\n",
       "      <td>False</td>\n",
       "      <td>2 - Medium</td>\n",
       "      <td>Do Not Notify</td>\n",
       "      <td>?</td>\n",
       "      <td>?</td>\n",
       "    </tr>\n",
       "    <tr>\n",
       "      <th>4</th>\n",
       "      <td>INC0000047</td>\n",
       "      <td>New</td>\n",
       "      <td>True</td>\n",
       "      <td>0</td>\n",
       "      <td>0</td>\n",
       "      <td>0</td>\n",
       "      <td>Caller 2403</td>\n",
       "      <td>Opened by  397</td>\n",
       "      <td>2016-02-29 04:40:00</td>\n",
       "      <td>Created by 171</td>\n",
       "      <td>...</td>\n",
       "      <td>Subcategory 215</td>\n",
       "      <td>Symptom 471</td>\n",
       "      <td>Group 70</td>\n",
       "      <td>Resolver 89</td>\n",
       "      <td>True</td>\n",
       "      <td>False</td>\n",
       "      <td>2 - Medium</td>\n",
       "      <td>Do Not Notify</td>\n",
       "      <td>?</td>\n",
       "      <td>?</td>\n",
       "    </tr>\n",
       "  </tbody>\n",
       "</table>\n",
       "<p>5 rows × 25 columns</p>\n",
       "</div>"
      ],
      "text/plain": [
       "           ID ID_status  active  count_reassign  count_opening  count_updated  \\\n",
       "0  INC0000045       New    True               0              0              0   \n",
       "1  INC0000045  Resolved    True               0              0              2   \n",
       "2  INC0000045  Resolved    True               0              0              3   \n",
       "3  INC0000045    Closed   False               0              0              4   \n",
       "4  INC0000047       New    True               0              0              0   \n",
       "\n",
       "     ID_caller       opened_by         opened_time      Created_by  ...  \\\n",
       "0  Caller 2403    Opened by  8 2016-02-29 01:16:00    Created by 6  ...   \n",
       "1  Caller 2403    Opened by  8 2016-02-29 01:16:00    Created by 6  ...   \n",
       "2  Caller 2403    Opened by  8 2016-02-29 01:16:00    Created by 6  ...   \n",
       "3  Caller 2403    Opened by  8 2016-02-29 01:16:00    Created by 6  ...   \n",
       "4  Caller 2403  Opened by  397 2016-02-29 04:40:00  Created by 171  ...   \n",
       "\n",
       "       Category Id user_symptom Support_group support_incharge Doc_knowledge  \\\n",
       "0  Subcategory 170   Symptom 72      Group 56                ?          True   \n",
       "1  Subcategory 170   Symptom 72      Group 56                ?          True   \n",
       "2  Subcategory 170   Symptom 72      Group 56                ?          True   \n",
       "3  Subcategory 170   Symptom 72      Group 56                ?          True   \n",
       "4  Subcategory 215  Symptom 471      Group 70      Resolver 89          True   \n",
       "\n",
       "  confirmation_check      impact         notify problem_ID  change_request  \n",
       "0              False  2 - Medium  Do Not Notify          ?               ?  \n",
       "1              False  2 - Medium  Do Not Notify          ?               ?  \n",
       "2              False  2 - Medium  Do Not Notify          ?               ?  \n",
       "3              False  2 - Medium  Do Not Notify          ?               ?  \n",
       "4              False  2 - Medium  Do Not Notify          ?               ?  \n",
       "\n",
       "[5 rows x 25 columns]"
      ]
     },
     "execution_count": 4,
     "metadata": {},
     "output_type": "execute_result"
    }
   ],
   "source": [
    "#To head the first 5 rows\n",
    "inc.head()"
   ]
  },
  {
   "cell_type": "code",
   "execution_count": 5,
   "metadata": {},
   "outputs": [
    {
     "data": {
      "text/html": [
       "<div>\n",
       "<style scoped>\n",
       "    .dataframe tbody tr th:only-of-type {\n",
       "        vertical-align: middle;\n",
       "    }\n",
       "\n",
       "    .dataframe tbody tr th {\n",
       "        vertical-align: top;\n",
       "    }\n",
       "\n",
       "    .dataframe thead th {\n",
       "        text-align: right;\n",
       "    }\n",
       "</style>\n",
       "<table border=\"1\" class=\"dataframe\">\n",
       "  <thead>\n",
       "    <tr style=\"text-align: right;\">\n",
       "      <th></th>\n",
       "      <th>ID</th>\n",
       "      <th>ID_status</th>\n",
       "      <th>active</th>\n",
       "      <th>count_reassign</th>\n",
       "      <th>count_opening</th>\n",
       "      <th>count_updated</th>\n",
       "      <th>ID_caller</th>\n",
       "      <th>opened_by</th>\n",
       "      <th>opened_time</th>\n",
       "      <th>Created_by</th>\n",
       "      <th>...</th>\n",
       "      <th>Category Id</th>\n",
       "      <th>user_symptom</th>\n",
       "      <th>Support_group</th>\n",
       "      <th>support_incharge</th>\n",
       "      <th>Doc_knowledge</th>\n",
       "      <th>confirmation_check</th>\n",
       "      <th>impact</th>\n",
       "      <th>notify</th>\n",
       "      <th>problem_ID</th>\n",
       "      <th>change_request</th>\n",
       "    </tr>\n",
       "  </thead>\n",
       "  <tbody>\n",
       "    <tr>\n",
       "      <th>344</th>\n",
       "      <td>INC0000134</td>\n",
       "      <td>New</td>\n",
       "      <td>True</td>\n",
       "      <td>0</td>\n",
       "      <td>0</td>\n",
       "      <td>2</td>\n",
       "      <td>Caller 2471</td>\n",
       "      <td>Opened by  501</td>\n",
       "      <td>2016-02-29 09:44:00</td>\n",
       "      <td>Created by 62</td>\n",
       "      <td>...</td>\n",
       "      <td>Subcategory 192</td>\n",
       "      <td>Symptom 580</td>\n",
       "      <td>Group 72</td>\n",
       "      <td>Resolver 216</td>\n",
       "      <td>True</td>\n",
       "      <td>False</td>\n",
       "      <td>3 - Low</td>\n",
       "      <td>Do Not Notify</td>\n",
       "      <td>?</td>\n",
       "      <td>?</td>\n",
       "    </tr>\n",
       "    <tr>\n",
       "      <th>345</th>\n",
       "      <td>INC0000134</td>\n",
       "      <td>New</td>\n",
       "      <td>True</td>\n",
       "      <td>1</td>\n",
       "      <td>0</td>\n",
       "      <td>1</td>\n",
       "      <td>Caller 2471</td>\n",
       "      <td>Opened by  501</td>\n",
       "      <td>2016-02-29 09:44:00</td>\n",
       "      <td>Created by 62</td>\n",
       "      <td>...</td>\n",
       "      <td>Subcategory 192</td>\n",
       "      <td>Symptom 580</td>\n",
       "      <td>Group 73</td>\n",
       "      <td>Resolver 216</td>\n",
       "      <td>True</td>\n",
       "      <td>False</td>\n",
       "      <td>3 - Low</td>\n",
       "      <td>Do Not Notify</td>\n",
       "      <td>?</td>\n",
       "      <td>?</td>\n",
       "    </tr>\n",
       "    <tr>\n",
       "      <th>346</th>\n",
       "      <td>INC0000134</td>\n",
       "      <td>Active</td>\n",
       "      <td>True</td>\n",
       "      <td>1</td>\n",
       "      <td>0</td>\n",
       "      <td>2</td>\n",
       "      <td>Caller 2471</td>\n",
       "      <td>Opened by  501</td>\n",
       "      <td>2016-02-29 09:44:00</td>\n",
       "      <td>Created by 62</td>\n",
       "      <td>...</td>\n",
       "      <td>Subcategory 192</td>\n",
       "      <td>Symptom 580</td>\n",
       "      <td>Group 73</td>\n",
       "      <td>Resolver 198</td>\n",
       "      <td>True</td>\n",
       "      <td>False</td>\n",
       "      <td>3 - Low</td>\n",
       "      <td>Do Not Notify</td>\n",
       "      <td>?</td>\n",
       "      <td>?</td>\n",
       "    </tr>\n",
       "    <tr>\n",
       "      <th>347</th>\n",
       "      <td>INC0000134</td>\n",
       "      <td>Resolved</td>\n",
       "      <td>True</td>\n",
       "      <td>1</td>\n",
       "      <td>0</td>\n",
       "      <td>3</td>\n",
       "      <td>Caller 2471</td>\n",
       "      <td>Opened by  501</td>\n",
       "      <td>2016-02-29 09:44:00</td>\n",
       "      <td>Created by 62</td>\n",
       "      <td>...</td>\n",
       "      <td>Subcategory 192</td>\n",
       "      <td>Symptom 580</td>\n",
       "      <td>Group 73</td>\n",
       "      <td>Resolver 198</td>\n",
       "      <td>True</td>\n",
       "      <td>False</td>\n",
       "      <td>3 - Low</td>\n",
       "      <td>Do Not Notify</td>\n",
       "      <td>?</td>\n",
       "      <td>?</td>\n",
       "    </tr>\n",
       "    <tr>\n",
       "      <th>348</th>\n",
       "      <td>INC0000134</td>\n",
       "      <td>Closed</td>\n",
       "      <td>False</td>\n",
       "      <td>1</td>\n",
       "      <td>0</td>\n",
       "      <td>4</td>\n",
       "      <td>Caller 2471</td>\n",
       "      <td>Opened by  501</td>\n",
       "      <td>2016-02-29 09:44:00</td>\n",
       "      <td>Created by 62</td>\n",
       "      <td>...</td>\n",
       "      <td>Subcategory 192</td>\n",
       "      <td>Symptom 580</td>\n",
       "      <td>Group 73</td>\n",
       "      <td>Resolver 198</td>\n",
       "      <td>True</td>\n",
       "      <td>False</td>\n",
       "      <td>3 - Low</td>\n",
       "      <td>Do Not Notify</td>\n",
       "      <td>?</td>\n",
       "      <td>?</td>\n",
       "    </tr>\n",
       "  </tbody>\n",
       "</table>\n",
       "<p>5 rows × 25 columns</p>\n",
       "</div>"
      ],
      "text/plain": [
       "             ID ID_status  active  count_reassign  count_opening  \\\n",
       "344  INC0000134       New    True               0              0   \n",
       "345  INC0000134       New    True               1              0   \n",
       "346  INC0000134    Active    True               1              0   \n",
       "347  INC0000134  Resolved    True               1              0   \n",
       "348  INC0000134    Closed   False               1              0   \n",
       "\n",
       "     count_updated    ID_caller       opened_by         opened_time  \\\n",
       "344              2  Caller 2471  Opened by  501 2016-02-29 09:44:00   \n",
       "345              1  Caller 2471  Opened by  501 2016-02-29 09:44:00   \n",
       "346              2  Caller 2471  Opened by  501 2016-02-29 09:44:00   \n",
       "347              3  Caller 2471  Opened by  501 2016-02-29 09:44:00   \n",
       "348              4  Caller 2471  Opened by  501 2016-02-29 09:44:00   \n",
       "\n",
       "        Created_by  ...      Category Id user_symptom Support_group  \\\n",
       "344  Created by 62  ...  Subcategory 192  Symptom 580      Group 72   \n",
       "345  Created by 62  ...  Subcategory 192  Symptom 580      Group 73   \n",
       "346  Created by 62  ...  Subcategory 192  Symptom 580      Group 73   \n",
       "347  Created by 62  ...  Subcategory 192  Symptom 580      Group 73   \n",
       "348  Created by 62  ...  Subcategory 192  Symptom 580      Group 73   \n",
       "\n",
       "    support_incharge Doc_knowledge confirmation_check   impact         notify  \\\n",
       "344     Resolver 216          True              False  3 - Low  Do Not Notify   \n",
       "345     Resolver 216          True              False  3 - Low  Do Not Notify   \n",
       "346     Resolver 198          True              False  3 - Low  Do Not Notify   \n",
       "347     Resolver 198          True              False  3 - Low  Do Not Notify   \n",
       "348     Resolver 198          True              False  3 - Low  Do Not Notify   \n",
       "\n",
       "    problem_ID  change_request  \n",
       "344          ?               ?  \n",
       "345          ?               ?  \n",
       "346          ?               ?  \n",
       "347          ?               ?  \n",
       "348          ?               ?  \n",
       "\n",
       "[5 rows x 25 columns]"
      ]
     },
     "execution_count": 5,
     "metadata": {},
     "output_type": "execute_result"
    }
   ],
   "source": [
    "#To read the last 5 rows\n",
    "inc.tail()"
   ]
  },
  {
   "cell_type": "code",
   "execution_count": 6,
   "metadata": {},
   "outputs": [
    {
     "data": {
      "text/html": [
       "<div>\n",
       "<style scoped>\n",
       "    .dataframe tbody tr th:only-of-type {\n",
       "        vertical-align: middle;\n",
       "    }\n",
       "\n",
       "    .dataframe tbody tr th {\n",
       "        vertical-align: top;\n",
       "    }\n",
       "\n",
       "    .dataframe thead th {\n",
       "        text-align: right;\n",
       "    }\n",
       "</style>\n",
       "<table border=\"1\" class=\"dataframe\">\n",
       "  <thead>\n",
       "    <tr style=\"text-align: right;\">\n",
       "      <th></th>\n",
       "      <th>count_reassign</th>\n",
       "      <th>count_opening</th>\n",
       "      <th>count_updated</th>\n",
       "    </tr>\n",
       "  </thead>\n",
       "  <tbody>\n",
       "    <tr>\n",
       "      <th>count</th>\n",
       "      <td>349.000000</td>\n",
       "      <td>349.000000</td>\n",
       "      <td>349.000000</td>\n",
       "    </tr>\n",
       "    <tr>\n",
       "      <th>mean</th>\n",
       "      <td>0.702006</td>\n",
       "      <td>0.008596</td>\n",
       "      <td>3.813754</td>\n",
       "    </tr>\n",
       "    <tr>\n",
       "      <th>std</th>\n",
       "      <td>1.094669</td>\n",
       "      <td>0.092448</td>\n",
       "      <td>3.871831</td>\n",
       "    </tr>\n",
       "    <tr>\n",
       "      <th>min</th>\n",
       "      <td>0.000000</td>\n",
       "      <td>0.000000</td>\n",
       "      <td>0.000000</td>\n",
       "    </tr>\n",
       "    <tr>\n",
       "      <th>25%</th>\n",
       "      <td>0.000000</td>\n",
       "      <td>0.000000</td>\n",
       "      <td>1.000000</td>\n",
       "    </tr>\n",
       "    <tr>\n",
       "      <th>50%</th>\n",
       "      <td>0.000000</td>\n",
       "      <td>0.000000</td>\n",
       "      <td>3.000000</td>\n",
       "    </tr>\n",
       "    <tr>\n",
       "      <th>75%</th>\n",
       "      <td>1.000000</td>\n",
       "      <td>0.000000</td>\n",
       "      <td>5.000000</td>\n",
       "    </tr>\n",
       "    <tr>\n",
       "      <th>max</th>\n",
       "      <td>6.000000</td>\n",
       "      <td>1.000000</td>\n",
       "      <td>19.000000</td>\n",
       "    </tr>\n",
       "  </tbody>\n",
       "</table>\n",
       "</div>"
      ],
      "text/plain": [
       "       count_reassign  count_opening  count_updated\n",
       "count      349.000000     349.000000     349.000000\n",
       "mean         0.702006       0.008596       3.813754\n",
       "std          1.094669       0.092448       3.871831\n",
       "min          0.000000       0.000000       0.000000\n",
       "25%          0.000000       0.000000       1.000000\n",
       "50%          0.000000       0.000000       3.000000\n",
       "75%          1.000000       0.000000       5.000000\n",
       "max          6.000000       1.000000      19.000000"
      ]
     },
     "execution_count": 6,
     "metadata": {},
     "output_type": "execute_result"
    }
   ],
   "source": [
    "inc.describe()"
   ]
  },
  {
   "cell_type": "code",
   "execution_count": 7,
   "metadata": {},
   "outputs": [
    {
     "name": "stdout",
     "output_type": "stream",
     "text": [
      "<class 'pandas.core.frame.DataFrame'>\n",
      "RangeIndex: 349 entries, 0 to 348\n",
      "Data columns (total 25 columns):\n",
      " #   Column              Non-Null Count  Dtype         \n",
      "---  ------              --------------  -----         \n",
      " 0   ID                  349 non-null    object        \n",
      " 1   ID_status           349 non-null    object        \n",
      " 2   active              349 non-null    bool          \n",
      " 3   count_reassign      349 non-null    int64         \n",
      " 4   count_opening       349 non-null    int64         \n",
      " 5   count_updated       349 non-null    int64         \n",
      " 6   ID_caller           349 non-null    object        \n",
      " 7   opened_by           349 non-null    object        \n",
      " 8   opened_time         349 non-null    datetime64[ns]\n",
      " 9   Created_by          349 non-null    object        \n",
      " 10  created_at          349 non-null    object        \n",
      " 11  updated_by          349 non-null    object        \n",
      " 12  updated_at          349 non-null    datetime64[ns]\n",
      " 13  type_contact        349 non-null    object        \n",
      " 14  location            349 non-null    object        \n",
      " 15  Category Id         349 non-null    object        \n",
      " 16  user_symptom        349 non-null    object        \n",
      " 17  Support_group       349 non-null    object        \n",
      " 18  support_incharge    349 non-null    object        \n",
      " 19  Doc_knowledge       349 non-null    bool          \n",
      " 20  confirmation_check  349 non-null    bool          \n",
      " 21  impact              349 non-null    object        \n",
      " 22  notify              349 non-null    object        \n",
      " 23  problem_ID          349 non-null    object        \n",
      " 24  change_request      349 non-null    object        \n",
      "dtypes: bool(3), datetime64[ns](2), int64(3), object(17)\n",
      "memory usage: 61.1+ KB\n"
     ]
    }
   ],
   "source": [
    "inc.info()"
   ]
  },
  {
   "cell_type": "markdown",
   "metadata": {},
   "source": [
    "### Pre-Processing the dataset"
   ]
  },
  {
   "cell_type": "code",
   "execution_count": 8,
   "metadata": {},
   "outputs": [],
   "source": [
    "#Replace ? with the nan\n",
    "inc=inc.replace(\"?\",np.nan)"
   ]
  },
  {
   "cell_type": "code",
   "execution_count": 9,
   "metadata": {},
   "outputs": [
    {
     "data": {
      "text/plain": [
       "ID                      0\n",
       "ID_status               0\n",
       "active                  0\n",
       "count_reassign          0\n",
       "count_opening           0\n",
       "count_updated           0\n",
       "ID_caller               0\n",
       "opened_by               0\n",
       "opened_time             0\n",
       "Created_by             62\n",
       "created_at             62\n",
       "updated_by              0\n",
       "updated_at              0\n",
       "type_contact            0\n",
       "location                0\n",
       "Category Id             0\n",
       "user_symptom           45\n",
       "Support_group           0\n",
       "support_incharge      155\n",
       "Doc_knowledge           0\n",
       "confirmation_check      0\n",
       "impact                  0\n",
       "notify                  0\n",
       "problem_ID            267\n",
       "change_request        343\n",
       "dtype: int64"
      ]
     },
     "execution_count": 9,
     "metadata": {},
     "output_type": "execute_result"
    }
   ],
   "source": [
    "inc.isna().sum(axis=0)"
   ]
  },
  {
   "cell_type": "code",
   "execution_count": 10,
   "metadata": {},
   "outputs": [],
   "source": [
    "#Removing extra string\n",
    "inc[\"ID_caller\"]= inc[\"ID_caller\"].str.replace(\"Caller\", \" \") \n",
    "inc[\"opened_by\"]= inc[\"opened_by\"].str.replace(\"Opened by\", \" \") \n",
    "inc[\"Created_by\"]= inc[\"Created_by\"].str.replace(\"Created by\", \" \") \n",
    "inc[\"Category Id\"]= inc[\"Category Id\"].str.replace(\"Subcategory\", \" \") \n",
    "inc[\"user_symptom\"]=inc[\"user_symptom\"].str.replace(\"Symptom\", \" \") \n",
    "inc[\"Support_group\"]=inc[\"Support_group\"].str.replace(\"Group\", \" \") \n",
    "inc[\"support_incharge\"]=inc[\"support_incharge\"].str.replace(\"Resolver\", \" \") \n",
    "inc[\"problem_ID\"]=inc[\"problem_ID\"].str.replace(\"Problem ID\", \" \") \n",
    "inc[\"updated_by\"]= inc[\"updated_by\"].str.replace(\"Updated by\", \" \") "
   ]
  },
  {
   "cell_type": "code",
   "execution_count": 11,
   "metadata": {},
   "outputs": [],
   "source": [
    "#Rename the column name\n",
    "inc.rename({'Category Id':'Category_id'},axis=1, inplace=True)"
   ]
  },
  {
   "cell_type": "code",
   "execution_count": 12,
   "metadata": {},
   "outputs": [],
   "source": [
    "inc[\"target_impact\"]=inc[\"impact\"].apply(lambda x: int(x.split(' ')[0]))"
   ]
  },
  {
   "cell_type": "code",
   "execution_count": 13,
   "metadata": {},
   "outputs": [],
   "source": [
    "inc[\"location\"]= inc[\"location\"].str.replace(\"Location\", \" \") "
   ]
  },
  {
   "cell_type": "markdown",
   "metadata": {},
   "source": [
    "### Visualisation of Dataset"
   ]
  },
  {
   "cell_type": "code",
   "execution_count": 14,
   "metadata": {},
   "outputs": [],
   "source": [
    "#visulaisation for categorical data"
   ]
  },
  {
   "cell_type": "code",
   "execution_count": 15,
   "metadata": {},
   "outputs": [
    {
     "data": {
      "text/plain": [
       "<AxesSubplot:xlabel='impact', ylabel='count'>"
      ]
     },
     "execution_count": 15,
     "metadata": {},
     "output_type": "execute_result"
    },
    {
     "data": {
      "image/png": "[encoded data removed]",
      "text/plain": [
       "<Figure size 432x288 with 1 Axes>"
      ]
     },
     "metadata": {
      "needs_background": "light"
     },
     "output_type": "display_data"
    }
   ],
   "source": [
    "import seaborn as sns\n",
    "sns.countplot(inc['impact'])"
   ]
  },
  {
   "cell_type": "code",
   "execution_count": 16,
   "metadata": {},
   "outputs": [
    {
     "data": {
      "text/plain": [
       "<AxesSubplot:xlabel='ID_status', ylabel='count'>"
      ]
     },
     "execution_count": 16,
     "metadata": {},
     "output_type": "execute_result"
    },
    {
     "data": {
      "image/png": "[encoded data removed]",
      "text/plain": [
       "<Figure size 1080x576 with 1 Axes>"
      ]
     },
     "metadata": {
      "needs_background": "light"
     },
     "output_type": "display_data"
    }
   ],
   "source": [
    "# Visulaization for categorical attributes\n",
    "plt.figure(figsize=(15,8))\n",
    "\n",
    "sns.countplot(inc['ID_status'])"
   ]
  },
  {
   "cell_type": "code",
   "execution_count": 17,
   "metadata": {},
   "outputs": [
    {
     "data": {
      "text/plain": [
       "<AxesSubplot:xlabel='active', ylabel='count'>"
      ]
     },
     "execution_count": 17,
     "metadata": {},
     "output_type": "execute_result"
    },
    {
     "data": {
      "image/png": "[encoded data removed]",
      "text/plain": [
       "<Figure size 432x288 with 1 Axes>"
      ]
     },
     "metadata": {
      "needs_background": "light"
     },
     "output_type": "display_data"
    }
   ],
   "source": [
    "sns.countplot(inc['active'])"
   ]
  },
  {
   "cell_type": "code",
   "execution_count": 18,
   "metadata": {},
   "outputs": [
    {
     "data": {
      "text/plain": [
       "<AxesSubplot:xlabel='Doc_knowledge', ylabel='count'>"
      ]
     },
     "execution_count": 18,
     "metadata": {},
     "output_type": "execute_result"
    },
    {
     "data": {
      "image/png": "[encoded data removed]",
      "text/plain": [
       "<Figure size 432x288 with 1 Axes>"
      ]
     },
     "metadata": {
      "needs_background": "light"
     },
     "output_type": "display_data"
    }
   ],
   "source": [
    "sns.countplot(inc['Doc_knowledge'])"
   ]
  },
  {
   "cell_type": "code",
   "execution_count": 19,
   "metadata": {},
   "outputs": [
    {
     "data": {
      "text/plain": [
       "<AxesSubplot:xlabel='confirmation_check', ylabel='count'>"
      ]
     },
     "execution_count": 19,
     "metadata": {},
     "output_type": "execute_result"
    },
    {
     "data": {
      "image/png": "[encoded data removed]",
      "text/plain": [
       "<Figure size 432x288 with 1 Axes>"
      ]
     },
     "metadata": {
      "needs_background": "light"
     },
     "output_type": "display_data"
    }
   ],
   "source": [
    "sns.countplot(inc['confirmation_check'])"
   ]
  },
  {
   "cell_type": "code",
   "execution_count": 20,
   "metadata": {},
   "outputs": [
    {
     "data": {
      "text/plain": [
       "<AxesSubplot:xlabel='notify', ylabel='count'>"
      ]
     },
     "execution_count": 20,
     "metadata": {},
     "output_type": "execute_result"
    },
    {
     "data": {
      "image/png": "[encoded data removed]",
      "text/plain": [
       "<Figure size 432x288 with 1 Axes>"
      ]
     },
     "metadata": {
      "needs_background": "light"
     },
     "output_type": "display_data"
    }
   ],
   "source": [
    "sns.countplot(inc['notify'])"
   ]
  },
  {
   "cell_type": "code",
   "execution_count": 21,
   "metadata": {},
   "outputs": [
    {
     "data": {
      "text/plain": [
       "<AxesSubplot:xlabel='type_contact', ylabel='count'>"
      ]
     },
     "execution_count": 21,
     "metadata": {},
     "output_type": "execute_result"
    },
    {
     "data": {
      "image/png": "[encoded data removed]",
      "text/plain": [
       "<Figure size 432x288 with 1 Axes>"
      ]
     },
     "metadata": {
      "needs_background": "light"
     },
     "output_type": "display_data"
    }
   ],
   "source": [
    "sns.countplot(inc['type_contact'])"
   ]
  },
  {
   "cell_type": "code",
   "execution_count": 22,
   "metadata": {},
   "outputs": [
    {
     "data": {
      "text/plain": [
       "<AxesSubplot:xlabel='location', ylabel='count'>"
      ]
     },
     "execution_count": 22,
     "metadata": {},
     "output_type": "execute_result"
    },
    {
     "data": {
      "image/png": "[encoded data removed]",
      "text/plain": [
       "<Figure size 1800x576 with 1 Axes>"
      ]
     },
     "metadata": {
      "needs_background": "light"
     },
     "output_type": "display_data"
    }
   ],
   "source": [
    "plt.figure(figsize=(25,8))\n",
    "sns.countplot(inc['location'])"
   ]
  },
  {
   "cell_type": "code",
   "execution_count": 23,
   "metadata": {},
   "outputs": [],
   "source": [
    "# Visulaization for numerical attributes"
   ]
  },
  {
   "cell_type": "code",
   "execution_count": 24,
   "metadata": {},
   "outputs": [],
   "source": [
    "def dist(inc,var1):\n",
    "    plt.figure()\n",
    "    sns.distplot(inc[var1],kde = False,bins = 30)\n",
    "    plt.show()"
   ]
  },
  {
   "cell_type": "code",
   "execution_count": 25,
   "metadata": {},
   "outputs": [
    {
     "data": {
      "image/png": "[encoded data removed]",
      "text/plain": [
       "<Figure size 432x288 with 1 Axes>"
      ]
     },
     "metadata": {
      "needs_background": "light"
     },
     "output_type": "display_data"
    }
   ],
   "source": [
    "dist(inc,\"count_reassign\")"
   ]
  },
  {
   "cell_type": "code",
   "execution_count": 26,
   "metadata": {},
   "outputs": [
    {
     "data": {
      "image/png": "[encoded data removed]",
      "text/plain": [
       "<Figure size 432x288 with 1 Axes>"
      ]
     },
     "metadata": {
      "needs_background": "light"
     },
     "output_type": "display_data"
    },
    {
     "name": "stdout",
     "output_type": "stream",
     "text": [
      "0    346\n",
      "1      3\n",
      "Name: count_opening, dtype: int64\n",
      "0.9914040114613181\n"
     ]
    }
   ],
   "source": [
    "dist(inc, \"count_opening\")\n",
    "open_val_count = inc['count_opening'].value_counts()\n",
    "print(open_val_count)\n",
    "print(open_val_count[0]/len(inc))"
   ]
  },
  {
   "cell_type": "code",
   "execution_count": 27,
   "metadata": {},
   "outputs": [
    {
     "data": {
      "image/png": "[encoded data removed]",
      "text/plain": [
       "<Figure size 432x288 with 1 Axes>"
      ]
     },
     "metadata": {
      "needs_background": "light"
     },
     "output_type": "display_data"
    },
    {
     "name": "stdout",
     "output_type": "stream",
     "text": [
      "2     56\n",
      "0     54\n",
      "1     52\n",
      "3     46\n",
      "4     33\n",
      "5     28\n",
      "6     20\n",
      "7     15\n",
      "8     10\n",
      "9      9\n",
      "10     5\n",
      "18     3\n",
      "14     3\n",
      "19     3\n",
      "11     2\n",
      "12     2\n",
      "13     2\n",
      "15     2\n",
      "16     2\n",
      "17     2\n",
      "Name: count_updated, dtype: int64\n",
      "Most updated count : 19\n",
      "0.9255014326647565\n"
     ]
    }
   ],
   "source": [
    "dist(inc, \"count_updated\")\n",
    "updated_val_count = inc['count_updated'].value_counts()\n",
    "print(updated_val_count[0:20])\n",
    "print(\"Most updated count :\", updated_val_count.index.max())\n",
    "print(updated_val_count[0:10].sum()/len(inc))"
   ]
  },
  {
   "cell_type": "markdown",
   "metadata": {},
   "source": [
    "# check for the missing values"
   ]
  },
  {
   "cell_type": "code",
   "execution_count": 29,
   "metadata": {},
   "outputs": [
    {
     "data": {
      "text/plain": [
       "<AxesSubplot:>"
      ]
     },
     "execution_count": 29,
     "metadata": {},
     "output_type": "execute_result"
    },
    {
     "data": {
      "image/png": "[encoded data removed]",
      "text/plain": [
       "<Figure size 432x288 with 2 Axes>"
      ]
     },
     "metadata": {
      "needs_background": "light"
     },
     "output_type": "display_data"
    }
   ],
   "source": [
    "cols =inc.columns \n",
    "colours = ['#000099', '#ffff00'] # specify the colours - yellow is missing. blue is not missing.\n",
    "sns.heatmap(inc[cols].isnull(),\n",
    "            cmap=sns.color_palette(colours))"
   ]
  },
  {
   "cell_type": "code",
   "execution_count": 30,
   "metadata": {},
   "outputs": [
    {
     "data": {
      "text/plain": [
       "True     293\n",
       "False     56\n",
       "Name: active, dtype: int64"
      ]
     },
     "execution_count": 30,
     "metadata": {},
     "output_type": "execute_result"
    }
   ],
   "source": [
    "# Value Counts\n",
    "inc['active'].value_counts()"
   ]
  },
  {
   "cell_type": "code",
   "execution_count": 31,
   "metadata": {},
   "outputs": [
    {
     "data": {
      "text/plain": [
       "0    195\n",
       "1    108\n",
       "2     24\n",
       "4      9\n",
       "3      8\n",
       "6      4\n",
       "5      1\n",
       "Name: count_reassign, dtype: int64"
      ]
     },
     "execution_count": 31,
     "metadata": {},
     "output_type": "execute_result"
    }
   ],
   "source": [
    "inc['count_reassign'].value_counts()"
   ]
  },
  {
   "cell_type": "code",
   "execution_count": 32,
   "metadata": {},
   "outputs": [
    {
     "data": {
      "text/plain": [
       "0    195\n",
       "1    108\n",
       "2     24\n",
       "4      9\n",
       "3      8\n",
       "6      4\n",
       "5      1\n",
       "Name: count_reassign, dtype: int64"
      ]
     },
     "execution_count": 32,
     "metadata": {},
     "output_type": "execute_result"
    }
   ],
   "source": [
    "inc['count_reassign'].value_counts()"
   ]
  },
  {
   "cell_type": "code",
   "execution_count": 33,
   "metadata": {},
   "outputs": [
    {
     "data": {
      "text/plain": [
       "0    346\n",
       "1      3\n",
       "Name: count_opening, dtype: int64"
      ]
     },
     "execution_count": 33,
     "metadata": {},
     "output_type": "execute_result"
    }
   ],
   "source": [
    "inc['count_opening'].value_counts()"
   ]
  },
  {
   "cell_type": "code",
   "execution_count": 34,
   "metadata": {},
   "outputs": [
    {
     "data": {
      "text/plain": [
       "2     56\n",
       "0     54\n",
       "1     52\n",
       "3     46\n",
       "4     33\n",
       "5     28\n",
       "6     20\n",
       "7     15\n",
       "8     10\n",
       "9      9\n",
       "10     5\n",
       "18     3\n",
       "14     3\n",
       "19     3\n",
       "11     2\n",
       "12     2\n",
       "13     2\n",
       "15     2\n",
       "16     2\n",
       "17     2\n",
       "Name: count_updated, dtype: int64"
      ]
     },
     "execution_count": 34,
     "metadata": {},
     "output_type": "execute_result"
    }
   ],
   "source": [
    "inc['count_updated'].value_counts()"
   ]
  },
  {
   "cell_type": "code",
   "execution_count": 35,
   "metadata": {},
   "outputs": [
    {
     "data": {
      "text/plain": [
       "True    349\n",
       "Name: Doc_knowledge, dtype: int64"
      ]
     },
     "execution_count": 35,
     "metadata": {},
     "output_type": "execute_result"
    }
   ],
   "source": [
    "inc['Doc_knowledge'].value_counts()"
   ]
  },
  {
   "cell_type": "code",
   "execution_count": 36,
   "metadata": {},
   "outputs": [
    {
     "data": {
      "text/plain": [
       "False    339\n",
       "True      10\n",
       "Name: confirmation_check, dtype: int64"
      ]
     },
     "execution_count": 36,
     "metadata": {},
     "output_type": "execute_result"
    }
   ],
   "source": [
    "inc['confirmation_check'].value_counts()"
   ]
  },
  {
   "cell_type": "code",
   "execution_count": 37,
   "metadata": {},
   "outputs": [
    {
     "data": {
      "text/plain": [
       "Do Not Notify    349\n",
       "Name: notify, dtype: int64"
      ]
     },
     "execution_count": 37,
     "metadata": {},
     "output_type": "execute_result"
    }
   ],
   "source": [
    "inc['notify'].value_counts()"
   ]
  },
  {
   "cell_type": "code",
   "execution_count": 38,
   "metadata": {},
   "outputs": [],
   "source": [
    "#format the date & columns\n",
    "inc[\"updated_day\"]=pd.to_datetime(inc.updated_at).dt.day\n",
    "inc[\"updated_month\"]=pd.to_datetime(inc.updated_at).dt.month\n",
    "inc[\"updated_year\"]=pd.to_datetime(inc.updated_at).dt.year\n",
    "inc[\"updated_hr\"]=pd.to_datetime(inc.updated_at).dt.hour\n",
    "inc[\"updated_minute\"]=pd.to_datetime(inc.updated_at).dt.minute\n",
    "inc[\"opened_at_day\"]=pd.to_datetime(inc.opened_time).dt.day\n",
    "inc[\"opened_at_month\"]=pd.to_datetime(inc.opened_time).dt.month\n",
    "inc[\"opened_at_year\"]=pd.to_datetime(inc.opened_time).dt.year\n",
    "inc[\"opened_at_hr\"]=pd.to_datetime(inc.opened_time).dt.hour\n",
    "inc[\"opened_at_minute\"]=pd.to_datetime(inc.opened_time).dt.minute\n",
    "inc[\"created_at_day\"]=pd.to_datetime(inc.created_at).dt.day\n",
    "inc[\"created_at_month\"]=pd.to_datetime(inc.created_at).dt.month\n",
    "inc[\"created_at_year\"]=pd.to_datetime(inc.created_at).dt.year\n",
    "inc[\"created_at_hr\"]=pd.to_datetime(inc.created_at).dt.hour\n",
    "inc[\"created_at_minute\"]=pd.to_datetime(inc.created_at).dt.minute"
   ]
  },
  {
   "cell_type": "code",
   "execution_count": 39,
   "metadata": {},
   "outputs": [
    {
     "name": "stdout",
     "output_type": "stream",
     "text": [
      "column: ID .Missing: 0\n",
      "column: ID_status .Missing: 0\n",
      "column: active .Missing: 0\n",
      "column: count_reassign .Missing: 0\n",
      "column: count_opening .Missing: 0\n",
      "column: count_updated .Missing: 0\n",
      "column: ID_caller .Missing: 0\n",
      "column: opened_by .Missing: 0\n",
      "column: opened_time .Missing: 0\n",
      "column: Created_by .Missing: 62\n",
      "column: created_at .Missing: 62\n",
      "column: updated_by .Missing: 0\n",
      "column: updated_at .Missing: 0\n",
      "column: type_contact .Missing: 0\n",
      "column: location .Missing: 0\n",
      "column: Category_id .Missing: 0\n",
      "column: user_symptom .Missing: 45\n",
      "column: Support_group .Missing: 0\n",
      "column: support_incharge .Missing: 155\n",
      "column: Doc_knowledge .Missing: 0\n",
      "column: confirmation_check .Missing: 0\n",
      "column: impact .Missing: 0\n",
      "column: notify .Missing: 0\n",
      "column: problem_ID .Missing: 267\n",
      "column: change_request .Missing: 343\n",
      "column: target_impact .Missing: 0\n",
      "column: updated_day .Missing: 0\n",
      "column: updated_month .Missing: 0\n",
      "column: updated_year .Missing: 0\n",
      "column: updated_hr .Missing: 0\n",
      "column: updated_minute .Missing: 0\n",
      "column: opened_at_day .Missing: 0\n",
      "column: opened_at_month .Missing: 0\n",
      "column: opened_at_year .Missing: 0\n",
      "column: opened_at_hr .Missing: 0\n",
      "column: opened_at_minute .Missing: 0\n",
      "column: created_at_day .Missing: 62\n",
      "column: created_at_month .Missing: 62\n",
      "column: created_at_year .Missing: 62\n",
      "column: created_at_hr .Missing: 62\n",
      "column: created_at_minute .Missing: 62\n"
     ]
    }
   ],
   "source": [
    "for col_name in inc.columns: \n",
    "    print (\"column:\",col_name,\".Missing:\",sum(inc[col_name].isnull()))"
   ]
  },
  {
   "cell_type": "code",
   "execution_count": 40,
   "metadata": {},
   "outputs": [],
   "source": [
    "inc2=inc.copy()"
   ]
  },
  {
   "cell_type": "code",
   "execution_count": 41,
   "metadata": {},
   "outputs": [],
   "source": [
    "#Drop the columns which are not required as opened_time,created_at,updated_at we have split it datetime format we dont need these columns and problem_id,change_request_support_incharge have more than 50% missing hence we will remove this column too\n",
    "inc2.drop(['opened_time','created_at','updated_at','support_incharge','change_request','problem_ID'],axis=1,inplace=True)"
   ]
  },
  {
   "cell_type": "markdown",
   "metadata": {},
   "source": [
    "### Label Encoding"
   ]
  },
  {
   "cell_type": "code",
   "execution_count": 42,
   "metadata": {},
   "outputs": [
    {
     "data": {
      "text/plain": [
       "4    128\n",
       "0     68\n",
       "5     58\n",
       "3     56\n",
       "2     36\n",
       "1      3\n",
       "Name: ID_status, dtype: int64"
      ]
     },
     "execution_count": 42,
     "metadata": {},
     "output_type": "execute_result"
    }
   ],
   "source": [
    "from sklearn.preprocessing import LabelEncoder\n",
    "number=LabelEncoder()\n",
    "inc2['ID_status']=number.fit_transform(inc2['ID_status'])\n",
    "inc2['ID_status'].value_counts()"
   ]
  },
  {
   "cell_type": "code",
   "execution_count": 43,
   "metadata": {},
   "outputs": [
    {
     "data": {
      "text/plain": [
       "1    293\n",
       "0     56\n",
       "Name: active, dtype: int64"
      ]
     },
     "execution_count": 43,
     "metadata": {},
     "output_type": "execute_result"
    }
   ],
   "source": [
    "inc2['active']=number.fit_transform(inc2['active'])\n",
    "inc2['active'].value_counts()"
   ]
  },
  {
   "cell_type": "code",
   "execution_count": 44,
   "metadata": {},
   "outputs": [
    {
     "data": {
      "text/plain": [
       "0    349\n",
       "Name: type_contact, dtype: int64"
      ]
     },
     "execution_count": 44,
     "metadata": {},
     "output_type": "execute_result"
    }
   ],
   "source": [
    "inc2['type_contact']=number.fit_transform(inc2['type_contact'])\n",
    "inc2['type_contact'].value_counts()"
   ]
  },
  {
   "cell_type": "code",
   "execution_count": 51,
   "metadata": {},
   "outputs": [
    {
     "data": {
      "text/plain": [
       "0    349\n",
       "Name: Doc_knowledge, dtype: int64"
      ]
     },
     "execution_count": 51,
     "metadata": {},
     "output_type": "execute_result"
    }
   ],
   "source": [
    "inc2['Doc_knowledge']=number.fit_transform(inc['Doc_knowledge'])\n",
    "inc2['Doc_knowledge'].value_counts()"
   ]
  },
  {
   "cell_type": "code",
   "execution_count": 52,
   "metadata": {},
   "outputs": [
    {
     "data": {
      "text/plain": [
       "0    339\n",
       "1     10\n",
       "Name: confirmation_check, dtype: int64"
      ]
     },
     "execution_count": 52,
     "metadata": {},
     "output_type": "execute_result"
    }
   ],
   "source": [
    "inc2['confirmation_check']=number.fit_transform(inc['confirmation_check'])\n",
    "inc2['confirmation_check'].value_counts()"
   ]
  },
  {
   "cell_type": "code",
   "execution_count": 53,
   "metadata": {},
   "outputs": [],
   "source": [
    "#Filling na values with the median values\n",
    "for columns in ['user_symptom','created_at_day','created_at_month','created_at_year','created_at_hr','created_at_minute']:\n",
    "    median=inc2[columns].median()\n",
    "    inc2[columns]=inc2[columns].fillna(median)"
   ]
  },
  {
   "cell_type": "code",
   "execution_count": 54,
   "metadata": {},
   "outputs": [],
   "source": [
    "inc2.drop(['impact'],axis=1,inplace=True)"
   ]
  },
  {
   "cell_type": "code",
   "execution_count": 55,
   "metadata": {},
   "outputs": [],
   "source": [
    "inc2.drop(['notify'],axis=1,inplace=True)"
   ]
  },
  {
   "cell_type": "code",
   "execution_count": 56,
   "metadata": {},
   "outputs": [
    {
     "data": {
      "text/html": [
       "<div>\n",
       "<style scoped>\n",
       "    .dataframe tbody tr th:only-of-type {\n",
       "        vertical-align: middle;\n",
       "    }\n",
       "\n",
       "    .dataframe tbody tr th {\n",
       "        vertical-align: top;\n",
       "    }\n",
       "\n",
       "    .dataframe thead th {\n",
       "        text-align: right;\n",
       "    }\n",
       "</style>\n",
       "<table border=\"1\" class=\"dataframe\">\n",
       "  <thead>\n",
       "    <tr style=\"text-align: right;\">\n",
       "      <th></th>\n",
       "      <th>ID</th>\n",
       "      <th>ID_status</th>\n",
       "      <th>active</th>\n",
       "      <th>count_reassign</th>\n",
       "      <th>count_opening</th>\n",
       "      <th>count_updated</th>\n",
       "      <th>ID_caller</th>\n",
       "      <th>opened_by</th>\n",
       "      <th>Created_by</th>\n",
       "      <th>updated_by</th>\n",
       "      <th>...</th>\n",
       "      <th>opened_at_day</th>\n",
       "      <th>opened_at_month</th>\n",
       "      <th>opened_at_year</th>\n",
       "      <th>opened_at_hr</th>\n",
       "      <th>opened_at_minute</th>\n",
       "      <th>created_at_day</th>\n",
       "      <th>created_at_month</th>\n",
       "      <th>created_at_year</th>\n",
       "      <th>created_at_hr</th>\n",
       "      <th>created_at_minute</th>\n",
       "    </tr>\n",
       "  </thead>\n",
       "  <tbody>\n",
       "    <tr>\n",
       "      <th>0</th>\n",
       "      <td>0000045</td>\n",
       "      <td>4</td>\n",
       "      <td>1</td>\n",
       "      <td>0</td>\n",
       "      <td>0</td>\n",
       "      <td>0</td>\n",
       "      <td>2403</td>\n",
       "      <td>8</td>\n",
       "      <td>6</td>\n",
       "      <td>21</td>\n",
       "      <td>...</td>\n",
       "      <td>29</td>\n",
       "      <td>2</td>\n",
       "      <td>2016</td>\n",
       "      <td>1</td>\n",
       "      <td>16</td>\n",
       "      <td>29.0</td>\n",
       "      <td>2.0</td>\n",
       "      <td>2016.0</td>\n",
       "      <td>1.0</td>\n",
       "      <td>23.0</td>\n",
       "    </tr>\n",
       "    <tr>\n",
       "      <th>1</th>\n",
       "      <td>0000045</td>\n",
       "      <td>5</td>\n",
       "      <td>1</td>\n",
       "      <td>0</td>\n",
       "      <td>0</td>\n",
       "      <td>2</td>\n",
       "      <td>2403</td>\n",
       "      <td>8</td>\n",
       "      <td>6</td>\n",
       "      <td>642</td>\n",
       "      <td>...</td>\n",
       "      <td>29</td>\n",
       "      <td>2</td>\n",
       "      <td>2016</td>\n",
       "      <td>1</td>\n",
       "      <td>16</td>\n",
       "      <td>29.0</td>\n",
       "      <td>2.0</td>\n",
       "      <td>2016.0</td>\n",
       "      <td>1.0</td>\n",
       "      <td>23.0</td>\n",
       "    </tr>\n",
       "  </tbody>\n",
       "</table>\n",
       "<p>2 rows × 33 columns</p>\n",
       "</div>"
      ],
      "text/plain": [
       "         ID  ID_status  active  count_reassign  count_opening  count_updated  \\\n",
       "0   0000045          4       1               0              0              0   \n",
       "1   0000045          5       1               0              0              2   \n",
       "\n",
       "  ID_caller opened_by Created_by updated_by  ...  opened_at_day  \\\n",
       "0      2403         8          6         21  ...             29   \n",
       "1      2403         8          6        642  ...             29   \n",
       "\n",
       "  opened_at_month opened_at_year opened_at_hr opened_at_minute  \\\n",
       "0               2           2016            1               16   \n",
       "1               2           2016            1               16   \n",
       "\n",
       "   created_at_day  created_at_month  created_at_year  created_at_hr  \\\n",
       "0            29.0               2.0           2016.0            1.0   \n",
       "1            29.0               2.0           2016.0            1.0   \n",
       "\n",
       "   created_at_minute  \n",
       "0               23.0  \n",
       "1               23.0  \n",
       "\n",
       "[2 rows x 33 columns]"
      ]
     },
     "execution_count": 56,
     "metadata": {},
     "output_type": "execute_result"
    }
   ],
   "source": [
    "inc2['ID']=inc2['ID'].str.replace(\"INC\", \" \") \n",
    "inc2.head(2)"
   ]
  },
  {
   "cell_type": "code",
   "execution_count": 57,
   "metadata": {},
   "outputs": [],
   "source": [
    "inc2['Created_by'] = inc2['Created_by'].astype(float)\n",
    "inc2['Created_by'].fillna((inc2['Created_by'].mean()), inplace=True)\n",
    "inc2['Created_by'] = inc2['Created_by'].astype(int)"
   ]
  },
  {
   "cell_type": "code",
   "execution_count": 58,
   "metadata": {},
   "outputs": [],
   "source": [
    "inc2['ID']=inc2['ID'].astype(int)\n",
    "inc2['location']=inc2['location'].astype(int)\n",
    "inc2['ID']=inc2['ID'].astype(float).astype(int)\n",
    "inc2['ID_caller']=inc2['ID_caller'].astype(int)\n",
    "inc2['opened_by']=inc2['opened_by'].astype(int)\n",
    "inc2['updated_by']=inc2['updated_by'].astype(int)\n",
    "inc2['location']=inc2['location'].astype(int)\n",
    "inc2['Category_id']=inc2['Category_id'].astype(int)\n",
    "inc2['user_symptom']=inc2['user_symptom'].astype(int)\n",
    "inc2['Support_group']=inc2['Support_group'].astype(int)"
   ]
  },
  {
   "cell_type": "code",
   "execution_count": 61,
   "metadata": {},
   "outputs": [
    {
     "name": "stdout",
     "output_type": "stream",
     "text": [
      "Index(['ID', 'ID_status', 'active', 'count_reassign', 'count_opening',\n",
      "       'count_updated', 'ID_caller', 'opened_by', 'Created_by', 'updated_by',\n",
      "       'type_contact', 'location', 'Category_id', 'user_symptom',\n",
      "       'Support_group', 'Doc_knowledge', 'confirmation_check', 'target_impact',\n",
      "       'updated_day', 'updated_month', 'updated_year', 'updated_hr',\n",
      "       'updated_minute', 'opened_at_day', 'opened_at_month', 'opened_at_year',\n",
      "       'opened_at_hr', 'opened_at_minute', 'created_at_day',\n",
      "       'created_at_month', 'created_at_year', 'created_at_hr',\n",
      "       'created_at_minute'],\n",
      "      dtype='object')\n"
     ]
    }
   ],
   "source": [
    "print(inc2.columns)"
   ]
  },
  {
   "cell_type": "code",
   "execution_count": 62,
   "metadata": {},
   "outputs": [],
   "source": [
    "incident1=inc2.copy()"
   ]
  },
  {
   "cell_type": "code",
   "execution_count": 63,
   "metadata": {},
   "outputs": [],
   "source": [
    "inc2.to_csv('train_test_pred.csv')"
   ]
  },
  {
   "cell_type": "code",
   "execution_count": 64,
   "metadata": {},
   "outputs": [
    {
     "name": "stdout",
     "output_type": "stream",
     "text": [
      "<class 'pandas.core.frame.DataFrame'>\n",
      "RangeIndex: 349 entries, 0 to 348\n",
      "Data columns (total 33 columns):\n",
      " #   Column              Non-Null Count  Dtype  \n",
      "---  ------              --------------  -----  \n",
      " 0   ID                  349 non-null    int32  \n",
      " 1   ID_status           349 non-null    int32  \n",
      " 2   active              349 non-null    int64  \n",
      " 3   count_reassign      349 non-null    int64  \n",
      " 4   count_opening       349 non-null    int64  \n",
      " 5   count_updated       349 non-null    int64  \n",
      " 6   ID_caller           349 non-null    int32  \n",
      " 7   opened_by           349 non-null    int32  \n",
      " 8   Created_by          349 non-null    int32  \n",
      " 9   updated_by          349 non-null    int32  \n",
      " 10  type_contact        349 non-null    int32  \n",
      " 11  location            349 non-null    int32  \n",
      " 12  Category_id         349 non-null    int32  \n",
      " 13  user_symptom        349 non-null    int32  \n",
      " 14  Support_group       349 non-null    int32  \n",
      " 15  Doc_knowledge       349 non-null    int64  \n",
      " 16  confirmation_check  349 non-null    int64  \n",
      " 17  target_impact       349 non-null    int64  \n",
      " 18  updated_day         349 non-null    int64  \n",
      " 19  updated_month       349 non-null    int64  \n",
      " 20  updated_year        349 non-null    int64  \n",
      " 21  updated_hr          349 non-null    int64  \n",
      " 22  updated_minute      349 non-null    int64  \n",
      " 23  opened_at_day       349 non-null    int64  \n",
      " 24  opened_at_month     349 non-null    int64  \n",
      " 25  opened_at_year      349 non-null    int64  \n",
      " 26  opened_at_hr        349 non-null    int64  \n",
      " 27  opened_at_minute    349 non-null    int64  \n",
      " 28  created_at_day      349 non-null    float64\n",
      " 29  created_at_month    349 non-null    float64\n",
      " 30  created_at_year     349 non-null    float64\n",
      " 31  created_at_hr       349 non-null    float64\n",
      " 32  created_at_minute   349 non-null    float64\n",
      "dtypes: float64(5), int32(11), int64(17)\n",
      "memory usage: 75.1 KB\n"
     ]
    }
   ],
   "source": [
    "inc2.info()"
   ]
  },
  {
   "cell_type": "markdown",
   "metadata": {},
   "source": [
    "### Spliting the dataset"
   ]
  },
  {
   "cell_type": "code",
   "execution_count": 65,
   "metadata": {},
   "outputs": [],
   "source": [
    "X=incident1.drop(\"target_impact\",axis=1)\n",
    "y=incident1[\"target_impact\"]"
   ]
  },
  {
   "cell_type": "code",
   "execution_count": 66,
   "metadata": {},
   "outputs": [
    {
     "data": {
      "text/html": [
       "<div>\n",
       "<style scoped>\n",
       "    .dataframe tbody tr th:only-of-type {\n",
       "        vertical-align: middle;\n",
       "    }\n",
       "\n",
       "    .dataframe tbody tr th {\n",
       "        vertical-align: top;\n",
       "    }\n",
       "\n",
       "    .dataframe thead th {\n",
       "        text-align: right;\n",
       "    }\n",
       "</style>\n",
       "<table border=\"1\" class=\"dataframe\">\n",
       "  <thead>\n",
       "    <tr style=\"text-align: right;\">\n",
       "      <th></th>\n",
       "      <th>ID</th>\n",
       "      <th>ID_status</th>\n",
       "      <th>active</th>\n",
       "      <th>count_reassign</th>\n",
       "      <th>count_opening</th>\n",
       "      <th>count_updated</th>\n",
       "      <th>ID_caller</th>\n",
       "      <th>opened_by</th>\n",
       "      <th>Created_by</th>\n",
       "      <th>updated_by</th>\n",
       "      <th>...</th>\n",
       "      <th>opened_at_day</th>\n",
       "      <th>opened_at_month</th>\n",
       "      <th>opened_at_year</th>\n",
       "      <th>opened_at_hr</th>\n",
       "      <th>opened_at_minute</th>\n",
       "      <th>created_at_day</th>\n",
       "      <th>created_at_month</th>\n",
       "      <th>created_at_year</th>\n",
       "      <th>created_at_hr</th>\n",
       "      <th>created_at_minute</th>\n",
       "    </tr>\n",
       "  </thead>\n",
       "  <tbody>\n",
       "    <tr>\n",
       "      <th>0</th>\n",
       "      <td>45</td>\n",
       "      <td>4</td>\n",
       "      <td>1</td>\n",
       "      <td>0</td>\n",
       "      <td>0</td>\n",
       "      <td>0</td>\n",
       "      <td>2403</td>\n",
       "      <td>8</td>\n",
       "      <td>6</td>\n",
       "      <td>21</td>\n",
       "      <td>...</td>\n",
       "      <td>29</td>\n",
       "      <td>2</td>\n",
       "      <td>2016</td>\n",
       "      <td>1</td>\n",
       "      <td>16</td>\n",
       "      <td>29.0</td>\n",
       "      <td>2.0</td>\n",
       "      <td>2016.0</td>\n",
       "      <td>1.0</td>\n",
       "      <td>23.0</td>\n",
       "    </tr>\n",
       "    <tr>\n",
       "      <th>1</th>\n",
       "      <td>45</td>\n",
       "      <td>5</td>\n",
       "      <td>1</td>\n",
       "      <td>0</td>\n",
       "      <td>0</td>\n",
       "      <td>2</td>\n",
       "      <td>2403</td>\n",
       "      <td>8</td>\n",
       "      <td>6</td>\n",
       "      <td>642</td>\n",
       "      <td>...</td>\n",
       "      <td>29</td>\n",
       "      <td>2</td>\n",
       "      <td>2016</td>\n",
       "      <td>1</td>\n",
       "      <td>16</td>\n",
       "      <td>29.0</td>\n",
       "      <td>2.0</td>\n",
       "      <td>2016.0</td>\n",
       "      <td>1.0</td>\n",
       "      <td>23.0</td>\n",
       "    </tr>\n",
       "  </tbody>\n",
       "</table>\n",
       "<p>2 rows × 32 columns</p>\n",
       "</div>"
      ],
      "text/plain": [
       "   ID  ID_status  active  count_reassign  count_opening  count_updated  \\\n",
       "0  45          4       1               0              0              0   \n",
       "1  45          5       1               0              0              2   \n",
       "\n",
       "   ID_caller  opened_by  Created_by  updated_by  ...  opened_at_day  \\\n",
       "0       2403          8           6          21  ...             29   \n",
       "1       2403          8           6         642  ...             29   \n",
       "\n",
       "   opened_at_month  opened_at_year  opened_at_hr  opened_at_minute  \\\n",
       "0                2            2016             1                16   \n",
       "1                2            2016             1                16   \n",
       "\n",
       "   created_at_day  created_at_month  created_at_year  created_at_hr  \\\n",
       "0            29.0               2.0           2016.0            1.0   \n",
       "1            29.0               2.0           2016.0            1.0   \n",
       "\n",
       "   created_at_minute  \n",
       "0               23.0  \n",
       "1               23.0  \n",
       "\n",
       "[2 rows x 32 columns]"
      ]
     },
     "execution_count": 66,
     "metadata": {},
     "output_type": "execute_result"
    }
   ],
   "source": [
    "X.head(2)"
   ]
  },
  {
   "cell_type": "code",
   "execution_count": 67,
   "metadata": {},
   "outputs": [
    {
     "data": {
      "text/plain": [
       "0    2\n",
       "1    2\n",
       "Name: target_impact, dtype: int64"
      ]
     },
     "execution_count": 67,
     "metadata": {},
     "output_type": "execute_result"
    }
   ],
   "source": [
    "y.head(2)"
   ]
  },
  {
   "cell_type": "code",
   "execution_count": 68,
   "metadata": {},
   "outputs": [],
   "source": [
    "from sklearn.model_selection import train_test_split\n",
    "X_train,X_test,y_train,y_test=train_test_split(X, y, test_size=0.3,random_state=10)"
   ]
  },
  {
   "cell_type": "markdown",
   "metadata": {},
   "source": [
    "### Using SMOTE\n",
    "###### To handle im-balanced dataset"
   ]
  },
  {
   "cell_type": "code",
   "execution_count": 69,
   "metadata": {},
   "outputs": [],
   "source": [
    "from imblearn.over_sampling import SMOTE\n",
    "smote = SMOTE()"
   ]
  },
  {
   "cell_type": "code",
   "execution_count": 70,
   "metadata": {},
   "outputs": [],
   "source": [
    "X_train_smote,y_train_smote=smote.fit_resample(X_train,y_train)"
   ]
  },
  {
   "cell_type": "code",
   "execution_count": 71,
   "metadata": {},
   "outputs": [
    {
     "name": "stdout",
     "output_type": "stream",
     "text": [
      "Before SMOTE : Counter({2: 221, 3: 16, 1: 7})\n",
      "After SMOTE : Counter({2: 221, 1: 221, 3: 221})\n"
     ]
    }
   ],
   "source": [
    "from collections import Counter\n",
    "print(\"Before SMOTE :\",Counter(y_train))\n",
    "print(\"After SMOTE :\",Counter(y_train_smote))"
   ]
  },
  {
   "cell_type": "markdown",
   "metadata": {},
   "source": [
    "### Feature Selection"
   ]
  },
  {
   "cell_type": "markdown",
   "metadata": {},
   "source": [
    "#### 1. Chi-square Test"
   ]
  },
  {
   "cell_type": "code",
   "execution_count": 72,
   "metadata": {},
   "outputs": [],
   "source": [
    "from sklearn.feature_selection import SelectKBest\n",
    "from sklearn.feature_selection import chi2"
   ]
  },
  {
   "cell_type": "code",
   "execution_count": 73,
   "metadata": {},
   "outputs": [
    {
     "data": {
      "text/plain": [
       "SelectKBest(k=30, score_func=<function chi2 at 0x00000201DFC5C3A0>)"
      ]
     },
     "execution_count": 73,
     "metadata": {},
     "output_type": "execute_result"
    }
   ],
   "source": [
    "ordered_rank_feature=SelectKBest(score_func=chi2,k=30)\n",
    "ordered_feature=ordered_rank_feature.fit(X_train_smote,y_train_smote)\n",
    "ordered_feature"
   ]
  },
  {
   "cell_type": "code",
   "execution_count": 75,
   "metadata": {},
   "outputs": [
    {
     "data": {
      "text/html": [
       "<div>\n",
       "<style scoped>\n",
       "    .dataframe tbody tr th:only-of-type {\n",
       "        vertical-align: middle;\n",
       "    }\n",
       "\n",
       "    .dataframe tbody tr th {\n",
       "        vertical-align: top;\n",
       "    }\n",
       "\n",
       "    .dataframe thead th {\n",
       "        text-align: right;\n",
       "    }\n",
       "</style>\n",
       "<table border=\"1\" class=\"dataframe\">\n",
       "  <thead>\n",
       "    <tr style=\"text-align: right;\">\n",
       "      <th></th>\n",
       "      <th>scores</th>\n",
       "      <th>0</th>\n",
       "    </tr>\n",
       "  </thead>\n",
       "  <tbody>\n",
       "    <tr>\n",
       "      <th>6</th>\n",
       "      <td>117492.431730</td>\n",
       "      <td>ID_caller</td>\n",
       "    </tr>\n",
       "    <tr>\n",
       "      <th>7</th>\n",
       "      <td>34801.845504</td>\n",
       "      <td>opened_by</td>\n",
       "    </tr>\n",
       "    <tr>\n",
       "      <th>13</th>\n",
       "      <td>13761.264322</td>\n",
       "      <td>user_symptom</td>\n",
       "    </tr>\n",
       "    <tr>\n",
       "      <th>11</th>\n",
       "      <td>10861.149118</td>\n",
       "      <td>location</td>\n",
       "    </tr>\n",
       "    <tr>\n",
       "      <th>9</th>\n",
       "      <td>7479.330258</td>\n",
       "      <td>updated_by</td>\n",
       "    </tr>\n",
       "    <tr>\n",
       "      <th>14</th>\n",
       "      <td>1927.228512</td>\n",
       "      <td>Support_group</td>\n",
       "    </tr>\n",
       "    <tr>\n",
       "      <th>12</th>\n",
       "      <td>1839.490306</td>\n",
       "      <td>Category_id</td>\n",
       "    </tr>\n",
       "    <tr>\n",
       "      <th>26</th>\n",
       "      <td>1257.556374</td>\n",
       "      <td>opened_at_minute</td>\n",
       "    </tr>\n",
       "    <tr>\n",
       "      <th>8</th>\n",
       "      <td>565.977750</td>\n",
       "      <td>Created_by</td>\n",
       "    </tr>\n",
       "    <tr>\n",
       "      <th>31</th>\n",
       "      <td>397.068645</td>\n",
       "      <td>created_at_minute</td>\n",
       "    </tr>\n",
       "    <tr>\n",
       "      <th>0</th>\n",
       "      <td>294.890462</td>\n",
       "      <td>ID</td>\n",
       "    </tr>\n",
       "    <tr>\n",
       "      <th>3</th>\n",
       "      <td>116.607843</td>\n",
       "      <td>count_reassign</td>\n",
       "    </tr>\n",
       "    <tr>\n",
       "      <th>5</th>\n",
       "      <td>88.632000</td>\n",
       "      <td>count_updated</td>\n",
       "    </tr>\n",
       "    <tr>\n",
       "      <th>21</th>\n",
       "      <td>77.755900</td>\n",
       "      <td>updated_minute</td>\n",
       "    </tr>\n",
       "    <tr>\n",
       "      <th>20</th>\n",
       "      <td>63.042918</td>\n",
       "      <td>updated_hr</td>\n",
       "    </tr>\n",
       "    <tr>\n",
       "      <th>17</th>\n",
       "      <td>43.705277</td>\n",
       "      <td>updated_day</td>\n",
       "    </tr>\n",
       "    <tr>\n",
       "      <th>1</th>\n",
       "      <td>26.675708</td>\n",
       "      <td>ID_status</td>\n",
       "    </tr>\n",
       "    <tr>\n",
       "      <th>25</th>\n",
       "      <td>19.804945</td>\n",
       "      <td>opened_at_hr</td>\n",
       "    </tr>\n",
       "    <tr>\n",
       "      <th>2</th>\n",
       "      <td>17.518600</td>\n",
       "      <td>active</td>\n",
       "    </tr>\n",
       "    <tr>\n",
       "      <th>18</th>\n",
       "      <td>7.533931</td>\n",
       "      <td>updated_month</td>\n",
       "    </tr>\n",
       "    <tr>\n",
       "      <th>30</th>\n",
       "      <td>5.399086</td>\n",
       "      <td>created_at_hr</td>\n",
       "    </tr>\n",
       "    <tr>\n",
       "      <th>4</th>\n",
       "      <td>4.000000</td>\n",
       "      <td>count_opening</td>\n",
       "    </tr>\n",
       "    <tr>\n",
       "      <th>16</th>\n",
       "      <td>3.500000</td>\n",
       "      <td>confirmation_check</td>\n",
       "    </tr>\n",
       "    <tr>\n",
       "      <th>19</th>\n",
       "      <td>0.000000</td>\n",
       "      <td>updated_year</td>\n",
       "    </tr>\n",
       "    <tr>\n",
       "      <th>22</th>\n",
       "      <td>0.000000</td>\n",
       "      <td>opened_at_day</td>\n",
       "    </tr>\n",
       "    <tr>\n",
       "      <th>23</th>\n",
       "      <td>0.000000</td>\n",
       "      <td>opened_at_month</td>\n",
       "    </tr>\n",
       "    <tr>\n",
       "      <th>24</th>\n",
       "      <td>0.000000</td>\n",
       "      <td>opened_at_year</td>\n",
       "    </tr>\n",
       "    <tr>\n",
       "      <th>27</th>\n",
       "      <td>0.000000</td>\n",
       "      <td>created_at_day</td>\n",
       "    </tr>\n",
       "    <tr>\n",
       "      <th>28</th>\n",
       "      <td>0.000000</td>\n",
       "      <td>created_at_month</td>\n",
       "    </tr>\n",
       "    <tr>\n",
       "      <th>29</th>\n",
       "      <td>0.000000</td>\n",
       "      <td>created_at_year</td>\n",
       "    </tr>\n",
       "  </tbody>\n",
       "</table>\n",
       "</div>"
      ],
      "text/plain": [
       "           scores                   0\n",
       "6   117492.431730           ID_caller\n",
       "7    34801.845504           opened_by\n",
       "13   13761.264322        user_symptom\n",
       "11   10861.149118            location\n",
       "9     7479.330258          updated_by\n",
       "14    1927.228512       Support_group\n",
       "12    1839.490306         Category_id\n",
       "26    1257.556374    opened_at_minute\n",
       "8      565.977750          Created_by\n",
       "31     397.068645   created_at_minute\n",
       "0      294.890462                  ID\n",
       "3      116.607843      count_reassign\n",
       "5       88.632000       count_updated\n",
       "21      77.755900      updated_minute\n",
       "20      63.042918          updated_hr\n",
       "17      43.705277         updated_day\n",
       "1       26.675708           ID_status\n",
       "25      19.804945        opened_at_hr\n",
       "2       17.518600              active\n",
       "18       7.533931       updated_month\n",
       "30       5.399086       created_at_hr\n",
       "4        4.000000       count_opening\n",
       "16       3.500000  confirmation_check\n",
       "19       0.000000        updated_year\n",
       "22       0.000000       opened_at_day\n",
       "23       0.000000     opened_at_month\n",
       "24       0.000000      opened_at_year\n",
       "27       0.000000      created_at_day\n",
       "28       0.000000    created_at_month\n",
       "29       0.000000     created_at_year"
      ]
     },
     "execution_count": 75,
     "metadata": {},
     "output_type": "execute_result"
    }
   ],
   "source": [
    "df_scores=pd.DataFrame(ordered_feature.scores_,columns=['scores'])\n",
    "df_columns=pd.DataFrame(X_train.columns)\n",
    "features_rank=pd.concat([df_scores,df_columns],axis=1)\n",
    "features_rank.nlargest(30,'scores')"
   ]
  },
  {
   "cell_type": "markdown",
   "metadata": {},
   "source": [
    "#### 2. ExtraTreesClassifier"
   ]
  },
  {
   "cell_type": "code",
   "execution_count": 76,
   "metadata": {},
   "outputs": [],
   "source": [
    "from sklearn.ensemble import ExtraTreesClassifier\n",
    "import matplotlib.pyplot as plt"
   ]
  },
  {
   "cell_type": "code",
   "execution_count": 77,
   "metadata": {},
   "outputs": [
    {
     "data": {
      "text/plain": [
       "ExtraTreesClassifier()"
      ]
     },
     "execution_count": 77,
     "metadata": {},
     "output_type": "execute_result"
    }
   ],
   "source": [
    "model=ExtraTreesClassifier()\n",
    "model.fit(X_train_smote,y_train_smote)"
   ]
  },
  {
   "cell_type": "code",
   "execution_count": 78,
   "metadata": {},
   "outputs": [
    {
     "name": "stdout",
     "output_type": "stream",
     "text": [
      "[3.69995805e-02 2.16434504e-02 1.40086132e-02 1.85951964e-02\n",
      " 5.87760817e-05 1.90921066e-02 6.02719701e-02 1.46598603e-01\n",
      " 7.59494475e-02 1.76488124e-02 0.00000000e+00 1.16577790e-01\n",
      " 5.91059210e-02 9.91851991e-02 6.86690675e-02 0.00000000e+00\n",
      " 1.32445485e-03 1.14988281e-02 2.18229420e-02 0.00000000e+00\n",
      " 1.98587335e-02 9.22767379e-03 0.00000000e+00 0.00000000e+00\n",
      " 0.00000000e+00 3.94215229e-02 6.87587924e-02 0.00000000e+00\n",
      " 0.00000000e+00 0.00000000e+00 2.35147187e-02 5.01678006e-02]\n"
     ]
    }
   ],
   "source": [
    "print(model.feature_importances_)"
   ]
  },
  {
   "cell_type": "code",
   "execution_count": 79,
   "metadata": {},
   "outputs": [
    {
     "data": {
      "image/png": "[encoded data removed]",
      "text/plain": [
       "<Figure size 1440x720 with 1 Axes>"
      ]
     },
     "metadata": {
      "needs_background": "light"
     },
     "output_type": "display_data"
    }
   ],
   "source": [
    "plt.figure(figsize=(20,10))\n",
    "ranked_features=pd.Series(model.feature_importances_,index=X.columns)\n",
    "ranked_features.nlargest(20).plot(kind='barh')\n",
    "plt.show()"
   ]
  },
  {
   "cell_type": "markdown",
   "metadata": {},
   "source": [
    "#### 3. Mutual Information Classifier"
   ]
  },
  {
   "cell_type": "code",
   "execution_count": 80,
   "metadata": {},
   "outputs": [],
   "source": [
    "from sklearn.feature_selection import mutual_info_classif"
   ]
  },
  {
   "cell_type": "code",
   "execution_count": 81,
   "metadata": {},
   "outputs": [],
   "source": [
    "mutual_info=mutual_info_classif(X_train_smote,y_train_smote)"
   ]
  },
  {
   "cell_type": "code",
   "execution_count": 82,
   "metadata": {},
   "outputs": [
    {
     "data": {
      "text/plain": [
       "Category_id           0.867845\n",
       "user_symptom          0.829105\n",
       "ID_caller             0.826788\n",
       "created_at_minute     0.742220\n",
       "location              0.722806\n",
       "ID                    0.706367\n",
       "opened_by             0.671890\n",
       "opened_at_minute      0.592932\n",
       "Created_by            0.589273\n",
       "Support_group         0.550720\n",
       "updated_by            0.360501\n",
       "opened_at_hr          0.341871\n",
       "created_at_hr         0.253064\n",
       "count_updated         0.243817\n",
       "updated_hr            0.228975\n",
       "count_reassign        0.180918\n",
       "updated_day           0.164526\n",
       "updated_minute        0.144728\n",
       "ID_status             0.123628\n",
       "updated_month         0.087482\n",
       "active                0.081139\n",
       "confirmation_check    0.053496\n",
       "created_at_day        0.015737\n",
       "created_at_year       0.013025\n",
       "type_contact          0.009487\n",
       "updated_year          0.002824\n",
       "opened_at_year        0.001345\n",
       "created_at_month      0.000000\n",
       "count_opening         0.000000\n",
       "opened_at_day         0.000000\n",
       "opened_at_month       0.000000\n",
       "Doc_knowledge         0.000000\n",
       "dtype: float64"
      ]
     },
     "execution_count": 82,
     "metadata": {},
     "output_type": "execute_result"
    }
   ],
   "source": [
    "mutual_info = pd.Series(mutual_info)\n",
    "mutual_info.index = X_train.columns\n",
    "mutual_info.sort_values(ascending=False)"
   ]
  },
  {
   "cell_type": "code",
   "execution_count": 83,
   "metadata": {},
   "outputs": [
    {
     "data": {
      "text/plain": [
       "<AxesSubplot:>"
      ]
     },
     "execution_count": 83,
     "metadata": {},
     "output_type": "execute_result"
    },
    {
     "data": {
      "image/png": "[encoded data removed]",
      "text/plain": [
       "<Figure size 1080x288 with 1 Axes>"
      ]
     },
     "metadata": {
      "needs_background": "light"
     },
     "output_type": "display_data"
    }
   ],
   "source": [
    "#let's plot the ordered mutual_info values per feature\n",
    "mutual_info.sort_values(ascending=False).plot.bar(figsize=(15, 4))"
   ]
  },
  {
   "cell_type": "code",
   "execution_count": 84,
   "metadata": {},
   "outputs": [
    {
     "data": {
      "text/plain": [
       "Index(['ID', 'ID_caller', 'opened_by', 'Created_by', 'location', 'Category_id',\n",
       "       'user_symptom', 'Support_group', 'opened_at_minute',\n",
       "       'created_at_minute'],\n",
       "      dtype='object')"
      ]
     },
     "execution_count": 84,
     "metadata": {},
     "output_type": "execute_result"
    }
   ],
   "source": [
    "#Now we Will select the  top 10 important features\n",
    "sel_top_cols = SelectKBest(mutual_info_classif, k=10)\n",
    "sel_top_cols.fit(X_train_smote, y_train_smote)\n",
    "X_train.columns[sel_top_cols.get_support()]"
   ]
  },
  {
   "cell_type": "markdown",
   "metadata": {},
   "source": [
    "#### 4. Decision Tree Classifier "
   ]
  },
  {
   "cell_type": "code",
   "execution_count": 85,
   "metadata": {},
   "outputs": [],
   "source": [
    "from sklearn.tree import DecisionTreeClassifier"
   ]
  },
  {
   "cell_type": "code",
   "execution_count": 86,
   "metadata": {},
   "outputs": [
    {
     "data": {
      "text/plain": [
       "DecisionTreeClassifier()"
      ]
     },
     "execution_count": 86,
     "metadata": {},
     "output_type": "execute_result"
    }
   ],
   "source": [
    "model= DecisionTreeClassifier()\n",
    "model.fit(X_train_smote,y_train_smote)"
   ]
  },
  {
   "cell_type": "code",
   "execution_count": 87,
   "metadata": {},
   "outputs": [
    {
     "data": {
      "text/plain": [
       "opened_by             0.379793\n",
       "location              0.279815\n",
       "ID_caller             0.156511\n",
       "Category_id           0.105652\n",
       "ID                    0.041795\n",
       "created_at_minute     0.036435\n",
       "opened_at_hr          0.000000\n",
       "opened_at_year        0.000000\n",
       "ID_status             0.000000\n",
       "active                0.000000\n",
       "count_reassign        0.000000\n",
       "count_opening         0.000000\n",
       "count_updated         0.000000\n",
       "created_at_year       0.000000\n",
       "created_at_month      0.000000\n",
       "Created_by            0.000000\n",
       "updated_by            0.000000\n",
       "type_contact          0.000000\n",
       "created_at_day        0.000000\n",
       "opened_at_minute      0.000000\n",
       "user_symptom          0.000000\n",
       "Support_group         0.000000\n",
       "created_at_hr         0.000000\n",
       "confirmation_check    0.000000\n",
       "updated_day           0.000000\n",
       "updated_month         0.000000\n",
       "updated_year          0.000000\n",
       "updated_hr            0.000000\n",
       "updated_minute        0.000000\n",
       "opened_at_day         0.000000\n",
       "opened_at_month       0.000000\n",
       "Doc_knowledge         0.000000\n",
       "dtype: float64"
      ]
     },
     "execution_count": 87,
     "metadata": {},
     "output_type": "execute_result"
    }
   ],
   "source": [
    "feature = pd.Series(model.feature_importances_)\n",
    "feature.index = X_train.columns\n",
    "feature.sort_values(ascending=False)"
   ]
  },
  {
   "cell_type": "code",
   "execution_count": 88,
   "metadata": {},
   "outputs": [
    {
     "data": {
      "text/plain": [
       "<AxesSubplot:>"
      ]
     },
     "execution_count": 88,
     "metadata": {},
     "output_type": "execute_result"
    },
    {
     "data": {
      "image/png": "[encoded data removed]",
      "text/plain": [
       "<Figure size 1080x288 with 1 Axes>"
      ]
     },
     "metadata": {
      "needs_background": "light"
     },
     "output_type": "display_data"
    }
   ],
   "source": [
    "feature.sort_values(ascending=False).plot.bar(figsize=(15, 4))"
   ]
  },
  {
   "cell_type": "code",
   "execution_count": 89,
   "metadata": {},
   "outputs": [],
   "source": [
    "X_train_new= X_train_smote[['opened_by','location','ID_caller','Category_id','ID']]\n",
    "X_test_new= X_test[['opened_by','location','ID_caller','Category_id','ID']]"
   ]
  },
  {
   "cell_type": "markdown",
   "metadata": {},
   "source": [
    "### 1. Random Forest Classifier"
   ]
  },
  {
   "cell_type": "code",
   "execution_count": 90,
   "metadata": {},
   "outputs": [
    {
     "data": {
      "text/plain": [
       "RandomForestClassifier(max_depth=27)"
      ]
     },
     "execution_count": 90,
     "metadata": {},
     "output_type": "execute_result"
    }
   ],
   "source": [
    "from sklearn.ensemble import RandomForestClassifier\n",
    "model_rf = RandomForestClassifier(max_depth=27)\n",
    "model_rf.fit(X_train_new,y_train_smote)"
   ]
  },
  {
   "cell_type": "code",
   "execution_count": 91,
   "metadata": {},
   "outputs": [],
   "source": [
    "# Predicting the model\n",
    "Y_predict_rf = model_rf.predict(X_test_new)"
   ]
  },
  {
   "cell_type": "code",
   "execution_count": 92,
   "metadata": {},
   "outputs": [],
   "source": [
    "from sklearn.metrics import roc_auc_score\n",
    "from sklearn.metrics import accuracy_score\n",
    "import sklearn.metrics as metrics"
   ]
  },
  {
   "cell_type": "code",
   "execution_count": 93,
   "metadata": {},
   "outputs": [
    {
     "name": "stdout",
     "output_type": "stream",
     "text": [
      "0.9809523809523809\n",
      "              precision    recall  f1-score   support\n",
      "\n",
      "           1       0.75      1.00      0.86         6\n",
      "           2       1.00      0.98      0.99        94\n",
      "           3       1.00      1.00      1.00         5\n",
      "\n",
      "    accuracy                           0.98       105\n",
      "   macro avg       0.92      0.99      0.95       105\n",
      "weighted avg       0.99      0.98      0.98       105\n",
      "\n"
     ]
    }
   ],
   "source": [
    "# Finding accuracy, precision, recall and confusion matrix\n",
    "from sklearn.metrics import classification_report\n",
    "print(accuracy_score(y_test,Y_predict_rf))\n",
    "print(classification_report(y_test,Y_predict_rf))"
   ]
  },
  {
   "cell_type": "code",
   "execution_count": 94,
   "metadata": {},
   "outputs": [
    {
     "data": {
      "text/plain": [
       "array([[ 6,  0,  0],\n",
       "       [ 2, 92,  0],\n",
       "       [ 0,  0,  5]], dtype=int64)"
      ]
     },
     "execution_count": 94,
     "metadata": {},
     "output_type": "execute_result"
    }
   ],
   "source": [
    "from sklearn.metrics import confusion_matrix\n",
    "confusion_matrix(y_test,Y_predict_rf)"
   ]
  },
  {
   "cell_type": "code",
   "execution_count": 95,
   "metadata": {},
   "outputs": [
    {
     "name": "stdout",
     "output_type": "stream",
     "text": [
      "Train Accuracy: 100.0\n",
      "Test Accuracy: 98.09523809523809\n"
     ]
    }
   ],
   "source": [
    "print(\"Train Accuracy:\",model_rf.score(X_train_new, y_train_smote)*100)\n",
    "print(\"Test Accuracy:\",model_rf.score(X_test_new, y_test)*100)"
   ]
  },
  {
   "cell_type": "markdown",
   "metadata": {},
   "source": [
    "### 2. Neural Network"
   ]
  },
  {
   "cell_type": "code",
   "execution_count": 96,
   "metadata": {},
   "outputs": [],
   "source": [
    "from sklearn.neural_network import MLPClassifier"
   ]
  },
  {
   "cell_type": "code",
   "execution_count": 97,
   "metadata": {},
   "outputs": [
    {
     "data": {
      "text/plain": [
       "MLPClassifier()"
      ]
     },
     "execution_count": 97,
     "metadata": {},
     "output_type": "execute_result"
    }
   ],
   "source": [
    "model_mlp = MLPClassifier()\n",
    "model_mlp.fit(X_train_new,y_train_smote)"
   ]
  },
  {
   "cell_type": "code",
   "execution_count": 98,
   "metadata": {},
   "outputs": [],
   "source": [
    "# Predicting the model\n",
    "Y_predict_mlp = model_mlp.predict(X_test_new)"
   ]
  },
  {
   "cell_type": "code",
   "execution_count": 99,
   "metadata": {},
   "outputs": [
    {
     "name": "stdout",
     "output_type": "stream",
     "text": [
      "0.8285714285714286\n",
      "              precision    recall  f1-score   support\n",
      "\n",
      "           1       0.33      1.00      0.50         6\n",
      "           2       0.97      0.83      0.90        94\n",
      "           3       0.43      0.60      0.50         5\n",
      "\n",
      "    accuracy                           0.83       105\n",
      "   macro avg       0.58      0.81      0.63       105\n",
      "weighted avg       0.91      0.83      0.86       105\n",
      "\n"
     ]
    }
   ],
   "source": [
    "# Finding accuracy, precision, recall and confusion matrix\n",
    "print(accuracy_score(y_test,Y_predict_mlp))\n",
    "print(classification_report(y_test,Y_predict_mlp))"
   ]
  },
  {
   "cell_type": "code",
   "execution_count": 100,
   "metadata": {},
   "outputs": [
    {
     "name": "stdout",
     "output_type": "stream",
     "text": [
      "Train Accuracy: 76.01809954751131\n",
      "Test Accuracy: 82.85714285714286\n"
     ]
    }
   ],
   "source": [
    "print(\"Train Accuracy:\",model_mlp.score(X_train_new, y_train_smote)*100)\n",
    "print(\"Test Accuracy:\",model_mlp.score(X_test_new, y_test)*100)"
   ]
  },
  {
   "cell_type": "markdown",
   "metadata": {},
   "source": [
    "### 3. Support Vector Classifier"
   ]
  },
  {
   "cell_type": "code",
   "execution_count": 101,
   "metadata": {},
   "outputs": [],
   "source": [
    "from sklearn.svm import SVC\n",
    "# Training the model\n",
    "rbf_svc = SVC(kernel='rbf',C=10,gamma=0.1).fit(X_train_new,y_train_smote)\n",
    "# Predicting the model\n",
    "Y_predict_svm = rbf_svc.predict(X_test_new)"
   ]
  },
  {
   "cell_type": "code",
   "execution_count": 102,
   "metadata": {},
   "outputs": [
    {
     "name": "stdout",
     "output_type": "stream",
     "text": [
      "0.9333333333333333\n"
     ]
    }
   ],
   "source": [
    "# Finding accuracy, precision, recall and confusion matrix\n",
    "print(accuracy_score(y_test,Y_predict_svm))\n"
   ]
  },
  {
   "cell_type": "code",
   "execution_count": 103,
   "metadata": {},
   "outputs": [
    {
     "name": "stdout",
     "output_type": "stream",
     "text": [
      "              precision    recall  f1-score   support\n",
      "\n",
      "           1       0.46      1.00      0.63         6\n",
      "           2       1.00      0.93      0.96        94\n",
      "           3       1.00      1.00      1.00         5\n",
      "\n",
      "    accuracy                           0.93       105\n",
      "   macro avg       0.82      0.98      0.86       105\n",
      "weighted avg       0.97      0.93      0.94       105\n",
      "\n"
     ]
    }
   ],
   "source": [
    "print(classification_report(y_test,Y_predict_svm))"
   ]
  },
  {
   "cell_type": "code",
   "execution_count": 104,
   "metadata": {},
   "outputs": [
    {
     "name": "stdout",
     "output_type": "stream",
     "text": [
      "Train Accuracy: 100.0\n",
      "Test Accuracy: 93.33333333333333\n"
     ]
    }
   ],
   "source": [
    "print(\"Train Accuracy:\",rbf_svc.score(X_train_new, y_train_smote)*100)\n",
    "print(\"Test Accuracy:\",rbf_svc.score(X_test_new, y_test)*100)"
   ]
  },
  {
   "cell_type": "markdown",
   "metadata": {},
   "source": [
    "### 4. KNN"
   ]
  },
  {
   "cell_type": "code",
   "execution_count": 105,
   "metadata": {},
   "outputs": [
    {
     "data": {
      "text/plain": [
       "KNeighborsClassifier()"
      ]
     },
     "execution_count": 105,
     "metadata": {},
     "output_type": "execute_result"
    }
   ],
   "source": [
    "from sklearn.neighbors import KNeighborsClassifier\n",
    "knn = KNeighborsClassifier(n_neighbors=5)\n",
    "knn.fit(X_train_new,y_train_smote)"
   ]
  },
  {
   "cell_type": "code",
   "execution_count": 106,
   "metadata": {},
   "outputs": [],
   "source": [
    "pred = knn.predict(X_test_new)"
   ]
  },
  {
   "cell_type": "code",
   "execution_count": 107,
   "metadata": {},
   "outputs": [
    {
     "name": "stdout",
     "output_type": "stream",
     "text": [
      "[[ 6  0  0]\n",
      " [ 4 90  0]\n",
      " [ 0  0  5]]\n"
     ]
    }
   ],
   "source": [
    "print(confusion_matrix(y_test,pred))"
   ]
  },
  {
   "cell_type": "code",
   "execution_count": 108,
   "metadata": {},
   "outputs": [
    {
     "name": "stdout",
     "output_type": "stream",
     "text": [
      "              precision    recall  f1-score   support\n",
      "\n",
      "           1       0.60      1.00      0.75         6\n",
      "           2       1.00      0.96      0.98        94\n",
      "           3       1.00      1.00      1.00         5\n",
      "\n",
      "    accuracy                           0.96       105\n",
      "   macro avg       0.87      0.99      0.91       105\n",
      "weighted avg       0.98      0.96      0.97       105\n",
      "\n"
     ]
    }
   ],
   "source": [
    "print(classification_report(y_test,pred))"
   ]
  },
  {
   "cell_type": "code",
   "execution_count": 109,
   "metadata": {},
   "outputs": [
    {
     "name": "stdout",
     "output_type": "stream",
     "text": [
      "Train Accuracy: 98.34087481146304\n",
      "Test Accuracy: 96.19047619047619\n"
     ]
    }
   ],
   "source": [
    "print(\"Train Accuracy:\",knn.score(X_train_new, y_train_smote)*100)\n",
    "print(\"Test Accuracy:\",knn.score(X_test_new, y_test)*100)"
   ]
  },
  {
   "cell_type": "markdown",
   "metadata": {},
   "source": [
    "### 5. Decision Tree Classifier"
   ]
  },
  {
   "cell_type": "code",
   "execution_count": 110,
   "metadata": {},
   "outputs": [],
   "source": [
    "from sklearn.tree import  DecisionTreeClassifier\n",
    "from sklearn import tree"
   ]
  },
  {
   "cell_type": "code",
   "execution_count": 111,
   "metadata": {},
   "outputs": [
    {
     "data": {
      "text/plain": [
       "DecisionTreeClassifier(criterion='entropy', max_depth=3)"
      ]
     },
     "execution_count": 111,
     "metadata": {},
     "output_type": "execute_result"
    }
   ],
   "source": [
    "#Building Decision Tree Classifier using Entropy Criteria\n",
    "model = DecisionTreeClassifier(criterion = 'entropy',max_depth=3)\n",
    "model.fit(X_train_new,y_train_smote)"
   ]
  },
  {
   "cell_type": "code",
   "execution_count": 112,
   "metadata": {},
   "outputs": [
    {
     "data": {
      "image/png": "[encoded data removed]",
      "text/plain": [
       "<Figure size 432x288 with 1 Axes>"
      ]
     },
     "metadata": {
      "needs_background": "light"
     },
     "output_type": "display_data"
    }
   ],
   "source": [
    "#PLot the decision tree\n",
    "tree.plot_tree(model);"
   ]
  },
  {
   "cell_type": "code",
   "execution_count": 113,
   "metadata": {},
   "outputs": [
    {
     "data": {
      "text/plain": [
       "2    85\n",
       "1    17\n",
       "3     3\n",
       "dtype: int64"
      ]
     },
     "execution_count": 113,
     "metadata": {},
     "output_type": "execute_result"
    }
   ],
   "source": [
    "#Predicting on test data\n",
    "preds = model.predict(X_test_new) # predicting on test data set \n",
    "pd.Series(preds).value_counts() # getting the count of each category "
   ]
  },
  {
   "cell_type": "code",
   "execution_count": 114,
   "metadata": {},
   "outputs": [
    {
     "data": {
      "text/plain": [
       "0.8761904761904762"
      ]
     },
     "execution_count": 114,
     "metadata": {},
     "output_type": "execute_result"
    }
   ],
   "source": [
    "# Accuracy \n",
    "np.mean(preds==y_test)"
   ]
  },
  {
   "cell_type": "code",
   "execution_count": 115,
   "metadata": {},
   "outputs": [],
   "source": [
    "from sklearn.tree import DecisionTreeClassifier\n",
    "model_gini = DecisionTreeClassifier(criterion='gini', max_depth=3)"
   ]
  },
  {
   "cell_type": "code",
   "execution_count": 116,
   "metadata": {},
   "outputs": [
    {
     "data": {
      "text/plain": [
       "DecisionTreeClassifier(max_depth=3)"
      ]
     },
     "execution_count": 116,
     "metadata": {},
     "output_type": "execute_result"
    }
   ],
   "source": [
    "model_gini.fit(X_train_new, y_train_smote)"
   ]
  },
  {
   "cell_type": "code",
   "execution_count": 117,
   "metadata": {},
   "outputs": [
    {
     "data": {
      "text/plain": [
       "0.8761904761904762"
      ]
     },
     "execution_count": 117,
     "metadata": {},
     "output_type": "execute_result"
    }
   ],
   "source": [
    "#Prediction and computing the accuracy\n",
    "pred=model.predict(X_test_new)\n",
    "np.mean(preds==y_test)"
   ]
  },
  {
   "cell_type": "code",
   "execution_count": 118,
   "metadata": {},
   "outputs": [
    {
     "name": "stdout",
     "output_type": "stream",
     "text": [
      "Train Accuracy: 94.7209653092006\n",
      "Test Accuracy: 91.42857142857143\n"
     ]
    }
   ],
   "source": [
    "print(\"Train Accuracy:\",model_gini.score(X_train_new, y_train_smote)*100)\n",
    "print(\"Test Accuracy:\",model_gini.score(X_test_new, y_test)*100)"
   ]
  },
  {
   "cell_type": "markdown",
   "metadata": {},
   "source": [
    "### 6. Gausian NB"
   ]
  },
  {
   "cell_type": "code",
   "execution_count": 119,
   "metadata": {},
   "outputs": [],
   "source": [
    "from sklearn.naive_bayes import GaussianNB"
   ]
  },
  {
   "cell_type": "code",
   "execution_count": 120,
   "metadata": {},
   "outputs": [],
   "source": [
    "#Create a Gaussian Classifier\n",
    "gnb = GaussianNB()\n",
    "\n",
    "#Train the model using the training sets\n",
    "gnb.fit(X_train_new, y_train_smote)\n",
    "\n",
    "#Predict the response for test dataset\n",
    "y_pred = gnb.predict(X_test_new)"
   ]
  },
  {
   "cell_type": "code",
   "execution_count": 121,
   "metadata": {},
   "outputs": [
    {
     "name": "stdout",
     "output_type": "stream",
     "text": [
      "Accuracy: 0.8857142857142857\n"
     ]
    }
   ],
   "source": [
    "# Model Accuracy, how often is the classifier correct?\n",
    "print(\"Accuracy:\",metrics.accuracy_score(y_test, y_pred))"
   ]
  },
  {
   "cell_type": "code",
   "execution_count": 122,
   "metadata": {},
   "outputs": [
    {
     "name": "stdout",
     "output_type": "stream",
     "text": [
      "              precision    recall  f1-score   support\n",
      "\n",
      "           1       0.55      1.00      0.71         6\n",
      "           2       0.98      0.89      0.93        94\n",
      "           3       0.38      0.60      0.46         5\n",
      "\n",
      "    accuracy                           0.89       105\n",
      "   macro avg       0.63      0.83      0.70       105\n",
      "weighted avg       0.92      0.89      0.90       105\n",
      "\n"
     ]
    }
   ],
   "source": [
    "print(classification_report(y_test,y_pred))"
   ]
  },
  {
   "cell_type": "code",
   "execution_count": 123,
   "metadata": {},
   "outputs": [
    {
     "name": "stdout",
     "output_type": "stream",
     "text": [
      "Train Accuracy: 93.81598793363499\n",
      "Test Accuracy: 88.57142857142857\n"
     ]
    }
   ],
   "source": [
    "print(\"Train Accuracy:\",gnb.score(X_train_new, y_train_smote)*100)\n",
    "print(\"Test Accuracy:\",gnb.score(X_test_new, y_test)*100)"
   ]
  },
  {
   "cell_type": "markdown",
   "metadata": {},
   "source": [
    "### Voting Classifier"
   ]
  },
  {
   "cell_type": "code",
   "execution_count": 124,
   "metadata": {},
   "outputs": [],
   "source": [
    "from sklearn.ensemble import VotingClassifier\n",
    "nb = GaussianNB()\n",
    "knn = KNeighborsClassifier()\n",
    "dt = DecisionTreeClassifier(random_state=101)"
   ]
  },
  {
   "cell_type": "code",
   "execution_count": 125,
   "metadata": {},
   "outputs": [],
   "source": [
    "# Define a list called classifier that contains the tuples (classifier_name, classifier)\n",
    "classifiers = [('GaussianNB', nb),\n",
    "('K Nearest Neighbours', knn),\n",
    "('Classification Tree', dt)]"
   ]
  },
  {
   "cell_type": "code",
   "execution_count": 126,
   "metadata": {},
   "outputs": [
    {
     "name": "stdout",
     "output_type": "stream",
     "text": [
      "GaussianNB : 0.886\n",
      "K Nearest Neighbours : 0.962\n",
      "Classification Tree : 0.981\n"
     ]
    }
   ],
   "source": [
    "# Iterate over the defined list of tuples containing the classifiers\n",
    "for clf_name, clf in classifiers:\n",
    "  clf.fit(X_train_new, y_train_smote)\n",
    "  y_pred = clf.predict(X_test_new)\n",
    "  print('{:s} : {:.3f}'.format(clf_name, accuracy_score(y_test, y_pred)))"
   ]
  },
  {
   "cell_type": "code",
   "execution_count": 127,
   "metadata": {},
   "outputs": [
    {
     "name": "stdout",
     "output_type": "stream",
     "text": [
      "Voting Classifier: 0.981\n"
     ]
    }
   ],
   "source": [
    "vc = VotingClassifier(estimators=classifiers)\n",
    "vc.fit(X_train_new, y_train_smote)\n",
    "y_pred = vc.predict(X_test_new)\n",
    "print('Voting Classifier: {:.3f}'.format(accuracy_score(y_test, y_pred)))"
   ]
  },
  {
   "cell_type": "code",
   "execution_count": 128,
   "metadata": {},
   "outputs": [
    {
     "name": "stdout",
     "output_type": "stream",
     "text": [
      "Train Accuracy: 99.24585218702866\n",
      "Test Accuracy: 98.09523809523809\n"
     ]
    }
   ],
   "source": [
    "print(\"Train Accuracy:\",vc.score(X_train_new, y_train_smote)*100)\n",
    "print(\"Test Accuracy:\",vc.score(X_test_new, y_test)*100)"
   ]
  },
  {
   "cell_type": "markdown",
   "metadata": {},
   "source": [
    "### Bagging Classifier"
   ]
  },
  {
   "cell_type": "code",
   "execution_count": 129,
   "metadata": {},
   "outputs": [
    {
     "name": "stdout",
     "output_type": "stream",
     "text": [
      "Accuracy of Bagging Classifier: 0.981\n"
     ]
    }
   ],
   "source": [
    "from sklearn.ensemble import BaggingClassifier\n",
    "dt = DecisionTreeClassifier(random_state=101)\n",
    "bc = BaggingClassifier(base_estimator=dt, n_estimators=300, n_jobs=-1)\n",
    "bc.fit(X_train_new, y_train_smote)\n",
    "y_pred = bc.predict(X_test_new)\n",
    "accuracy = accuracy_score(y_test, y_pred)\n",
    "print('Accuracy of Bagging Classifier: {:.3f}'.format(accuracy))"
   ]
  },
  {
   "cell_type": "code",
   "execution_count": 130,
   "metadata": {},
   "outputs": [
    {
     "name": "stdout",
     "output_type": "stream",
     "text": [
      "Train Accuracy: 100.0\n",
      "Test Accuracy: 98.09523809523809\n"
     ]
    }
   ],
   "source": [
    "print(\"Train Accuracy:\",bc.score(X_train_new, y_train_smote)*100)\n",
    "print(\"Test Accuracy:\",bc.score(X_test_new, y_test)*100)"
   ]
  },
  {
   "cell_type": "markdown",
   "metadata": {},
   "source": [
    "### AdaBoost Classifier"
   ]
  },
  {
   "cell_type": "code",
   "execution_count": 131,
   "metadata": {},
   "outputs": [
    {
     "name": "stdout",
     "output_type": "stream",
     "text": [
      "Accuracy of Bagging Classifier: 0.981\n"
     ]
    }
   ],
   "source": [
    "from sklearn.ensemble import AdaBoostClassifier\n",
    "dt = DecisionTreeClassifier(random_state=101)\n",
    "abc = AdaBoostClassifier(base_estimator=dt, n_estimators=300)\n",
    "abc.fit(X_train_new, y_train_smote)\n",
    "y_pred = bc.predict(X_test_new)\n",
    "accuracy = accuracy_score(y_test, y_pred)\n",
    "print('Accuracy of Bagging Classifier: {:.3f}'.format(accuracy))"
   ]
  },
  {
   "cell_type": "code",
   "execution_count": 132,
   "metadata": {},
   "outputs": [
    {
     "name": "stdout",
     "output_type": "stream",
     "text": [
      "Train Accuracy: 100.0\n",
      "Test Accuracy: 98.09523809523809\n"
     ]
    }
   ],
   "source": [
    "print(\"Train Accuracy:\",abc.score(X_train_new, y_train_smote)*100)\n",
    "print(\"Test Accuracy:\",abc.score(X_test_new, y_test)*100)"
   ]
  },
  {
   "cell_type": "markdown",
   "metadata": {},
   "source": [
    "### XgBoost Classifier"
   ]
  },
  {
   "cell_type": "code",
   "execution_count": 136,
   "metadata": {},
   "outputs": [
    {
     "name": "stdout",
     "output_type": "stream",
     "text": [
      "[22:30:33] WARNING: ..\\src\\learner.cc:1061: Starting in XGBoost 1.3.0, the default evaluation metric used with the objective 'multi:softprob' was changed from 'merror' to 'mlogloss'. Explicitly set eval_metric if you'd like to restore the old behavior.\n"
     ]
    }
   ],
   "source": [
    "from xgboost import XGBClassifier\n",
    "xgb = XGBClassifier()\n",
    "xgb.fit(X_train_new, y_train_smote)\n",
    "y_pred = xgb.predict(X_test_new)\n",
    "accuracy = accuracy_score(y_test, y_pred)"
   ]
  },
  {
   "cell_type": "code",
   "execution_count": 137,
   "metadata": {},
   "outputs": [
    {
     "name": "stdout",
     "output_type": "stream",
     "text": [
      "Accuracy of Bagging Classifier: 0.981\n"
     ]
    }
   ],
   "source": [
    "print('Accuracy of Bagging Classifier: {:.3f}'.format(accuracy))"
   ]
  },
  {
   "cell_type": "code",
   "execution_count": 138,
   "metadata": {},
   "outputs": [
    {
     "name": "stdout",
     "output_type": "stream",
     "text": [
      "Train Accuracy: 100.0\n",
      "Test Accuracy: 98.09523809523809\n"
     ]
    }
   ],
   "source": [
    "print(\"Train Accuracy:\",xgb.score(X_train_new, y_train_smote)*100)\n",
    "print(\"Test Accuracy:\",xgb.score(X_test_new, y_test)*100)"
   ]
  },
  {
   "cell_type": "markdown",
   "metadata": {},
   "source": [
    "### Hyperparameter Tuning"
   ]
  },
  {
   "cell_type": "markdown",
   "metadata": {},
   "source": [
    "### Grid Search CV "
   ]
  },
  {
   "cell_type": "code",
   "execution_count": 139,
   "metadata": {},
   "outputs": [
    {
     "name": "stdout",
     "output_type": "stream",
     "text": [
      "Fitting 4 folds for each of 9 candidates, totalling 36 fits\n",
      "[22:30:53] WARNING: ..\\src\\learner.cc:1061: Starting in XGBoost 1.3.0, the default evaluation metric used with the objective 'multi:softprob' was changed from 'merror' to 'mlogloss'. Explicitly set eval_metric if you'd like to restore the old behavior.\n",
      "Best parameters found:  {'learning_rate': 0.05, 'max_depth': 6, 'n_estimators': 50}\n",
      "Collecting xgboost\n",
      "  Downloading xgboost-1.3.3-py3-none-win_amd64.whl (95.2 MB)\n",
      "Requirement already satisfied: numpy in c:\\users\\gkhat\\anaconda3\\lib\\site-packages (from xgboost) (1.19.2)\n",
      "Requirement already satisfied: scipy in c:\\users\\gkhat\\anaconda3\\lib\\site-packages (from xgboost) (1.5.2)\n",
      "Installing collected packages: xgboost\n",
      "Successfully installed xgboost-1.3.3\n"
     ]
    }
   ],
   "source": [
    "import xgboost as xgb\n",
    "from sklearn.model_selection import GridSearchCV\n",
    "gbm_param_grid = {'learning_rate': [0.05],'n_estimators': [50, 100, 150],'max_depth': [6, 7, 8]}\n",
    "gbm = xgb.XGBClassifier()\n",
    "grid_cv = GridSearchCV(estimator=gbm, param_grid=gbm_param_grid, cv=4, verbose=1, n_jobs=-1)\n",
    "grid_cv.fit(X_train_new, y_train_smote)\n",
    "print(\"Best parameters found: \",grid_cv.best_params_)"
   ]
  },
  {
   "cell_type": "code",
   "execution_count": 140,
   "metadata": {},
   "outputs": [
    {
     "name": "stdout",
     "output_type": "stream",
     "text": [
      "Best Score found:  0.99849284013819\n"
     ]
    }
   ],
   "source": [
    "print(\"Best Score found: \", np.sqrt(np.abs(grid_cv.best_score_)))"
   ]
  },
  {
   "cell_type": "markdown",
   "metadata": {},
   "source": [
    "### Randomised Forest"
   ]
  },
  {
   "cell_type": "code",
   "execution_count": 141,
   "metadata": {},
   "outputs": [
    {
     "name": "stdout",
     "output_type": "stream",
     "text": [
      "Fitting 4 folds for each of 25 candidates, totalling 100 fits\n",
      "[22:57:26] WARNING: ..\\src\\learner.cc:1061: Starting in XGBoost 1.3.0, the default evaluation metric used with the objective 'multi:softprob' was changed from 'merror' to 'mlogloss'. Explicitly set eval_metric if you'd like to restore the old behavior.\n",
      "Best parameters found:  {'n_estimators': 100, 'max_depth': 1, 'learning_rate': 0.7000000000000001}\n"
     ]
    }
   ],
   "source": [
    "import xgboost as xgb\n",
    "from sklearn.model_selection import RandomizedSearchCV\n",
    "gbm_param_grid = {'learning_rate': np.arange(0.05,1.05,.05),'n_estimators': [100, 200, 300],'max_depth': range(1,10)}\n",
    "gbm = xgb.XGBClassifier()\n",
    "randomized_cv = RandomizedSearchCV(estimator=gbm, param_distributions=gbm_param_grid, n_iter=25,random_state=101, cv=4, verbose=1, n_jobs=-1)\n",
    "randomized_cv.fit(X_train_new, y_train_smote)\n",
    "print(\"Best parameters found: \",randomized_cv.best_params_)"
   ]
  },
  {
   "cell_type": "code",
   "execution_count": 142,
   "metadata": {},
   "outputs": [
    {
     "name": "stdout",
     "output_type": "stream",
     "text": [
      "Best Score found:  0.9992467042245445\n"
     ]
    }
   ],
   "source": [
    "print(\"Best Score found: \", np.sqrt(np.abs(randomized_cv.best_score_)))"
   ]
  },
  {
   "cell_type": "code",
   "execution_count": null,
   "metadata": {},
   "outputs": [],
   "source": []
  }
 ],
 "metadata": {
  "kernelspec": {
   "display_name": "Python 3",
   "language": "python",
   "name": "python3"
  },
  "language_info": {
   "codemirror_mode": {
    "name": "ipython",
    "version": 3
   },
   "file_extension": ".py",
   "mimetype": "text/x-python",
   "name": "python",
   "nbconvert_exporter": "python",
   "pygments_lexer": "ipython3",
   "version": "3.8.5"
  }
 },
 "nbformat": 4,
 "nbformat_minor": 4
}
